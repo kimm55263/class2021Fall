{
  "nbformat": 4,
  "nbformat_minor": 0,
  "metadata": {
    "kernelspec": {
      "display_name": "Python 3",
      "language": "python",
      "name": "python3"
    },
    "language_info": {
      "codemirror_mode": {
        "name": "ipython",
        "version": 3
      },
      "file_extension": ".py",
      "mimetype": "text/x-python",
      "name": "python",
      "nbconvert_exporter": "python",
      "pygments_lexer": "ipython3",
      "version": "3.7.1"
    },
    "colab": {
      "name": "numpy.ipynb",
      "provenance": [],
      "include_colab_link": true
    }
  },
  "cells": [
    {
      "cell_type": "markdown",
      "metadata": {
        "id": "view-in-github",
        "colab_type": "text"
      },
      "source": [
        "<a href=\"https://colab.research.google.com/github/kimm55263/class2021Fall/blob/main/numpy.ipynb\" target=\"_parent\"><img src=\"https://colab.research.google.com/assets/colab-badge.svg\" alt=\"Open In Colab\"/></a>"
      ]
    },
    {
      "cell_type": "markdown",
      "metadata": {
        "id": "JcCdLoe_4bY7"
      },
      "source": [
        "### create nd arrays (≈matrices)\n",
        "n dimensional 행렬은 n by m = 2차원이 됨\n",
        "행렬 그 위로도 갈 수 있음 n by m by p \n",
        "2 by 3 by 4 by 5 = 이건 4차원"
      ]
    },
    {
      "cell_type": "code",
      "metadata": {
        "id": "5ap7xyofShBB"
      },
      "source": [
        "import numpy as np"
      ],
      "execution_count": 14,
      "outputs": []
    },
    {
      "cell_type": "code",
      "metadata": {
        "id": "2rqpSPZCShBC",
        "colab": {
          "base_uri": "https://localhost:8080/"
        },
        "outputId": "2caf450d-84c0-4b1a-9194-2af2cac2f5d6"
      },
      "source": [
        "x = np.array ([[[1, 2, 3], [4, 5, 6]], [[8, 9, 0], [9, 9, 9]]]) # 대괄호가 끝에 크게 두개 있어서 2차원으로 찾을 수 있음\n",
        "# 큰 괄호에 2개가 들어있고, 그 안에는 3개가 들어있다\n",
        "# 가장 큰 괄호에 2개가 들어 있는 bracket 두개가 있고 2, 그리고 그 안에도 괄호가 2개고, 하나 안에는 숫자가 3개이다\n",
        "# array는 3D array, 1차원 2개, 그 안에서는 2개 그리고 3개\n",
        "\n",
        "# x = np.array([1,2,3])\n",
        "print(x)\n",
        "print(type(x))\n",
        "print(x.shape)"
      ],
      "execution_count": 15,
      "outputs": [
        {
          "output_type": "stream",
          "name": "stdout",
          "text": [
            "[[[1 2 3]\n",
            "  [4 5 6]]\n",
            "\n",
            " [[8 9 0]\n",
            "  [9 9 9]]]\n",
            "<class 'numpy.ndarray'>\n",
            "(2, 2, 3)\n"
          ]
        }
      ]
    },
    {
      "cell_type": "code",
      "metadata": {
        "id": "EjC88C75ShBC",
        "colab": {
          "base_uri": "https://localhost:8080/"
        },
        "outputId": "2e690ba2-f31c-4d5c-fe43-a42b213c9fa0"
      },
      "source": [
        "x = np.arange(0,10,2) # 0부터 10으로 2씩 올라가는데, 0은 포함하되 10은 포함하지 말아라, 한 줄짜리 5, 1차원 array인 것\n",
        "print(x)\n",
        "print(type(x)) # ndarray\n",
        "print(x.shape) # 1차원, 타입을 보면 차원을 알 수 없는데, shape을 보면 1차원인데, 요소가 5가지있구나 알 수 있음"
      ],
      "execution_count": 16,
      "outputs": [
        {
          "output_type": "stream",
          "name": "stdout",
          "text": [
            "[0 2 4 6 8]\n",
            "<class 'numpy.ndarray'>\n",
            "(5,)\n"
          ]
        }
      ]
    },
    {
      "cell_type": "code",
      "metadata": {
        "id": "-MwkCEjTShBC",
        "colab": {
          "base_uri": "https://localhost:8080/"
        },
        "outputId": "c098055f-e99a-48b6-c704-0f4e04f90cbf"
      },
      "source": [
        "x = np.linspace(0,10,6) # 1차원 array를 알려주는 것, 여기는 10음 포함하는 함수, linear - 등간격으로 linear하게 올라간다\n",
        "print(x)\n",
        "print(type(x))\n",
        "print(x.shape)"
      ],
      "execution_count": 17,
      "outputs": [
        {
          "output_type": "stream",
          "name": "stdout",
          "text": [
            "[ 0.  2.  4.  6.  8. 10.]\n",
            "<class 'numpy.ndarray'>\n",
            "(6,)\n"
          ]
        }
      ]
    },
    {
      "cell_type": "code",
      "metadata": {
        "id": "tjk79SQ27fNv",
        "colab": {
          "base_uri": "https://localhost:8080/"
        },
        "outputId": "7d7aa7ec-54d3-4531-d69e-3fe9b134337f"
      },
      "source": [
        "x = np.array([[1,2,3], [4,5,6]])\n",
        "print(x)\n",
        "print(type(x))\n",
        "print(x.shape) # 대괄호에 2개, 그 안에 3개 2차원"
      ],
      "execution_count": 18,
      "outputs": [
        {
          "output_type": "stream",
          "name": "stdout",
          "text": [
            "[[1 2 3]\n",
            " [4 5 6]]\n",
            "<class 'numpy.ndarray'>\n",
            "(2, 3)\n"
          ]
        }
      ]
    },
    {
      "cell_type": "code",
      "metadata": {
        "id": "C1ogg6iZ7yir",
        "colab": {
          "base_uri": "https://localhost:8080/"
        },
        "outputId": "ad373da6-4407-4989-903b-274d3764a4d6"
      },
      "source": [
        "x = np.array([[[1,2,3], [4,5,6]], [[7,8,9], [10,11,12]]]) \n",
        "# 제일 밖에 있는 대괄호가 3개가 있음 3차원, 크게 2개, 그 안에 2개, 그 안에 요소가 3개 \n",
        "print(x)\n",
        "print(type(x))\n",
        "print(x.shape) # 2차원 3D array"
      ],
      "execution_count": 19,
      "outputs": [
        {
          "output_type": "stream",
          "name": "stdout",
          "text": [
            "[[[ 1  2  3]\n",
            "  [ 4  5  6]]\n",
            "\n",
            " [[ 7  8  9]\n",
            "  [10 11 12]]]\n",
            "<class 'numpy.ndarray'>\n",
            "(2, 2, 3)\n"
          ]
        }
      ]
    },
    {
      "cell_type": "code",
      "metadata": {
        "id": "efgeNHtD8ZlT",
        "colab": {
          "base_uri": "https://localhost:8080/"
        },
        "outputId": "047fb9dd-8c90-4dbf-9f12-35123bed1052"
      },
      "source": [
        "x = np.ones([2, 2, 3])\n",
        "print(x)\n",
        "print(type(x))\n",
        "print(x.shape) # 2 by 2 by 3 array를 만들되 모두 1을 채워 놓아라"
      ],
      "execution_count": null,
      "outputs": [
        {
          "output_type": "stream",
          "name": "stdout",
          "text": [
            "[[[1. 1. 1.]\n",
            "  [1. 1. 1.]]\n",
            "\n",
            " [[1. 1. 1.]\n",
            "  [1. 1. 1.]]]\n",
            "<class 'numpy.ndarray'>\n",
            "(2, 2, 3)\n"
          ]
        }
      ]
    },
    {
      "cell_type": "code",
      "metadata": {
        "id": "b_F-ccY08zzl",
        "colab": {
          "base_uri": "https://localhost:8080/"
        },
        "outputId": "28c94826-c282-4099-a152-8641c54e3866"
      },
      "source": [
        "x = np.zeros([2, 2, 3])\n",
        "print(x)\n",
        "print(type(x))\n",
        "print(x.shape)\n",
        "x.reshape(3,2,2)"
      ],
      "execution_count": null,
      "outputs": [
        {
          "output_type": "stream",
          "name": "stdout",
          "text": [
            "[[[0. 0. 0.]\n",
            "  [0. 0. 0.]]\n",
            "\n",
            " [[0. 0. 0.]\n",
            "  [0. 0. 0.]]]\n",
            "<class 'numpy.ndarray'>\n",
            "(2, 2, 3)\n"
          ]
        },
        {
          "output_type": "execute_result",
          "data": {
            "text/plain": [
              "array([[[0., 0.],\n",
              "        [0., 0.]],\n",
              "\n",
              "       [[0., 0.],\n",
              "        [0., 0.]],\n",
              "\n",
              "       [[0., 0.],\n",
              "        [0., 0.]]])"
            ]
          },
          "metadata": {},
          "execution_count": 14
        }
      ]
    },
    {
      "cell_type": "markdown",
      "metadata": {
        "id": "0hQuDJ5g9gpE"
      },
      "source": [
        "### create random numbers"
      ]
    },
    {
      "cell_type": "code",
      "metadata": {
        "id": "QRatmkx79otL"
      },
      "source": [
        "import matplotlib.pyplot as plt\n",
        "# 이름이 matplotlib인 이유? matrix plotting library"
      ],
      "execution_count": 20,
      "outputs": []
    },
    {
      "cell_type": "code",
      "metadata": {
        "id": "z1oOAB6dShBD",
        "colab": {
          "base_uri": "https://localhost:8080/",
          "height": 1000
        },
        "outputId": "28a0143a-1928-42d9-a0b9-71128a12ad0b"
      },
      "source": [
        "x = np.random.normal(0, 1, 1000) # 평균 0, std 1, 100 숫자\n",
        "print(type(x))\n",
        "print(x)\n",
        "plt.hist(x, bins=20)"
      ],
      "execution_count": 23,
      "outputs": [
        {
          "output_type": "stream",
          "name": "stdout",
          "text": [
            "<class 'numpy.ndarray'>\n",
            "[-3.27598074e-01  1.08895307e+00 -4.81262934e-02  1.51098417e+00\n",
            " -7.64441769e-01 -1.83295751e+00  1.35765986e-01 -1.59097001e+00\n",
            "  1.22618423e-01 -3.17231040e-02  5.25699465e-01 -2.03544481e-02\n",
            " -1.13893781e+00 -1.02808905e+00 -7.75783750e-01  9.97817792e-01\n",
            "  5.73981450e-01 -1.43116340e-01  6.52183353e-01 -3.04204704e-01\n",
            "  1.13025601e+00  1.40157734e+00 -4.39467356e-01  8.54020765e-01\n",
            "  1.28186693e+00  1.21575007e+00  2.03113256e-01 -8.14164493e-01\n",
            " -7.97601739e-01 -2.69816013e-01  1.45165970e+00 -8.44020757e-01\n",
            " -8.84673581e-01 -5.28769526e-01  1.71767061e+00  4.90398293e-01\n",
            " -1.17238908e+00 -8.66872126e-01  1.01151875e+00  8.35689619e-01\n",
            "  1.50575824e+00  1.07386269e+00 -1.32839118e+00  6.91460786e-01\n",
            " -2.15814190e+00  2.24999145e+00 -1.10017954e+00 -3.58654564e-02\n",
            "  5.01684304e-01 -3.68381044e-01 -1.48091533e+00  1.70832226e+00\n",
            "  1.20644711e-01  3.82696101e-01  3.48392826e-01  7.93412897e-01\n",
            "  1.08656658e+00  1.39385860e+00  7.16098659e-02  4.12634463e-01\n",
            " -1.18254038e-01 -5.58326393e-01  1.50393436e+00 -1.52797606e-01\n",
            " -9.42513721e-01  9.65398508e-04 -1.85550710e-01  1.22453497e+00\n",
            " -2.91219986e+00 -9.47228406e-02 -1.10147960e-01  2.08611894e-01\n",
            " -2.52134550e-02 -5.70131389e-01  6.65418923e-01 -8.27597914e-01\n",
            " -5.43393536e-02 -7.83668297e-01 -1.12261989e-01  1.95792948e-01\n",
            "  1.40889285e-01 -2.37080324e-01 -1.78563919e+00  1.14471736e-01\n",
            " -1.69787536e+00  8.81982970e-01  4.62353922e-01 -2.52181011e-03\n",
            "  2.03535598e+00 -2.34047978e-01 -2.12223668e-01  1.17173910e+00\n",
            " -9.69554205e-01  1.91585142e+00  1.97329929e+00  2.26459597e+00\n",
            "  5.99290623e-01  3.59667273e-01 -2.78298549e-01 -3.69358181e-01\n",
            "  9.94186470e-01 -9.06677838e-01 -1.03178076e+00 -2.88075323e-01\n",
            " -6.79414099e-01  6.20451499e-01  4.88552487e-01  8.67573872e-02\n",
            "  5.02632191e-02 -1.67431650e+00 -3.38007316e-02  1.15164732e+00\n",
            " -1.34778425e+00 -5.75534119e-01  6.48517740e-01 -9.78074580e-01\n",
            "  1.98346290e+00 -7.81047483e-01 -1.01785656e+00 -1.87270779e+00\n",
            " -9.60135937e-02  2.73167105e-01 -1.37780181e+00  3.70935059e-01\n",
            " -2.99849609e-01  1.61554432e+00 -1.14476434e+00  1.09399793e+00\n",
            " -6.02334646e-01  1.30099107e-01 -1.30261512e-01 -1.01363270e-01\n",
            "  1.26680960e+00 -1.59674317e+00  9.43441782e-01  3.43305046e-01\n",
            "  1.74925153e-01 -1.37884703e+00  1.44997645e+00 -5.84394151e-01\n",
            " -5.56745974e-01 -2.38488682e-01  9.57515503e-01 -9.12558571e-01\n",
            " -2.70153630e+00 -1.62700428e+00 -1.47911706e+00 -4.82436496e-02\n",
            " -1.59481830e+00 -3.41572144e-01 -7.10824566e-01  1.36094407e+00\n",
            " -7.39877056e-01 -1.88465406e+00  1.00058297e+00  1.36812504e-01\n",
            "  1.65714955e-01 -2.68005295e-02  1.56514420e-01  1.56907845e+00\n",
            " -1.73864206e-01  1.04785349e+00 -4.32539992e-01 -4.96155906e-01\n",
            "  2.65194081e-01  6.61873485e-02  1.70517426e+00 -3.10484638e-01\n",
            " -7.25871854e-01  1.28223429e+00  1.06387277e+00 -1.70166548e+00\n",
            "  6.68636422e-01 -1.01796004e+00 -6.31951080e-01  1.21552722e+00\n",
            "  1.68515293e+00 -1.10105770e+00  1.65425934e+00  1.00476452e+00\n",
            "  9.39627127e-01  1.22680280e+00 -1.09631470e+00  1.04516072e+00\n",
            " -8.92035676e-01  1.05212491e+00  7.99645992e-01  2.29571022e-01\n",
            "  3.93316736e-01 -3.20878896e-01 -1.07988065e+00  1.19755327e+00\n",
            "  9.41126466e-01 -1.60219650e+00 -2.04500509e+00  3.71437043e-01\n",
            "  1.09502300e+00  4.20553206e-01 -1.57641092e+00  1.35690031e+00\n",
            " -6.71140809e-01 -2.68438016e-02 -2.74693404e-01 -1.17306627e+00\n",
            " -1.69143227e+00  2.01817409e-01  1.69865215e-01  6.87016126e-01\n",
            " -7.19306826e-02  2.02704211e+00  1.18856308e+00  1.74342714e-01\n",
            "  7.44667847e-01  3.82784372e-01 -1.15651593e+00 -7.96739732e-01\n",
            " -1.30408576e+00 -7.78947028e-01 -1.80642456e-01 -8.40405545e-01\n",
            "  1.06227910e+00 -1.21965639e+00  1.58294764e+00 -1.47890424e+00\n",
            "  7.76428545e-01 -2.73209478e+00  1.04287156e+00  1.34183332e+00\n",
            " -8.10268142e-01  5.85347500e-01 -4.81690375e-01  7.90015788e-02\n",
            " -1.62626188e+00  7.35031699e-01  1.60586366e-01  2.19874118e-01\n",
            " -5.17581745e-02 -1.61346150e+00  3.94788016e-01  1.20391355e+00\n",
            "  7.86539266e-03 -1.67165191e-01  4.31132958e-01  1.09684513e+00\n",
            "  1.12995562e-01  5.04762527e-01  3.15436314e-01  6.14744299e-01\n",
            "  7.53559253e-01 -1.23927986e+00  1.65552183e+00  1.22492520e+00\n",
            " -1.52690829e+00 -6.69812970e-01 -4.43524325e-01 -6.60722538e-02\n",
            " -9.23760006e-01 -6.34685985e-02 -7.22541537e-01  5.32193603e-01\n",
            " -1.84233055e+00 -1.34175934e+00 -1.11283745e+00  1.11233624e+00\n",
            "  1.14765820e+00  1.85341546e+00  2.72519694e-02 -6.99800400e-01\n",
            "  3.04137570e-01 -9.42291517e-01  2.29242201e-01 -1.99757899e+00\n",
            "  1.01684512e-01 -2.04422272e+00  5.80793052e-01 -3.05285995e-01\n",
            "  6.91391243e-02  9.87705144e-01  1.28386681e-01  3.43815753e-01\n",
            " -2.78292625e-01  4.46358303e-01  4.36042149e-02  1.44129781e-01\n",
            "  6.61959473e-01  3.14951096e-01  5.24064830e-01  9.54771939e-01\n",
            "  4.09146065e-01  1.20379193e-01  8.46331454e-01 -1.00304240e-01\n",
            "  9.59849615e-01  1.12964708e+00 -1.09165059e+00 -2.23160565e+00\n",
            " -6.12841573e-01 -1.20247923e+00 -1.94988079e+00 -7.72339332e-01\n",
            "  3.43379192e-01  3.90421221e-01 -8.28987434e-02 -5.03570326e-01\n",
            "  5.51078624e-01 -7.11726237e-01 -1.21369475e+00 -9.79149286e-01\n",
            " -9.05520191e-01 -2.42613270e+00 -1.40443808e+00 -5.54463872e-01\n",
            "  1.25863370e+00  9.11467055e-01  1.41369251e+00  1.16080044e+00\n",
            " -9.08275183e-01 -1.26496963e+00  7.73054161e-01 -9.07306478e-01\n",
            "  6.85806329e-01  2.18368781e-02 -1.11273662e-01  9.91769390e-01\n",
            " -3.68204144e-02  7.55024572e-01  7.66820284e-01  1.54133593e-01\n",
            "  5.86565313e-01  6.74442954e-01  3.81933156e-01  1.05794960e-01\n",
            "  1.41646061e+00 -2.29068218e+00 -5.10922251e-01  1.58243511e+00\n",
            " -2.26954756e-01  3.66027921e-01 -1.43925381e-01  1.45786126e+00\n",
            "  3.55379708e-01  6.22160458e-01  9.38482767e-01  2.64736817e-01\n",
            " -8.28893509e-01  6.85718502e-02 -2.20174238e-01  5.81692881e-02\n",
            "  1.12470308e+00 -1.55891927e+00 -1.28434044e+00 -2.09466478e+00\n",
            "  1.41384887e+00  3.65290974e-01 -1.41427485e+00 -3.02412490e-01\n",
            "  2.09900775e+00 -1.15727667e+00  6.02181635e-01  5.05873534e-01\n",
            "  3.75693866e-01 -2.06677361e+00  1.88921038e-01  2.23929504e+00\n",
            " -1.09489339e+00  8.13792146e-01  1.69966213e+00  1.46452686e+00\n",
            "  6.85284098e-01 -7.77503135e-01  5.04559622e-02 -1.75292025e+00\n",
            "  7.14003150e-01  9.18350024e-01 -1.33486170e+00 -1.04802453e+00\n",
            "  4.81398374e-01  2.85890494e-01 -1.36355806e+00 -7.14999601e-01\n",
            "  2.07805372e-01  1.87511418e-01 -1.19135280e+00 -8.05938594e-01\n",
            " -1.03912927e+00  2.25131385e+00 -9.53849567e-01 -2.75087765e-01\n",
            "  1.10406189e+00 -1.24309919e+00  4.34670457e-01 -1.03127026e+00\n",
            "  1.33999426e+00 -4.16931455e-01  7.91974769e-01 -1.33016122e+00\n",
            " -1.60035255e+00  2.15625180e-02  1.55469076e+00 -2.52044094e+00\n",
            " -3.92641495e-01  3.93881675e-01  5.52252357e-01  1.01521115e+00\n",
            "  4.08475689e-01  4.93217733e-01 -4.99754847e-01  2.19326911e-01\n",
            "  8.39488585e-01  2.37847348e-01  3.76128330e-01 -8.50403574e-01\n",
            "  7.59127409e-02 -5.66290885e-01 -6.04904687e-01  1.39718684e+00\n",
            "  2.20450778e+00  9.27312007e-01  1.06287260e+00 -1.23899222e+00\n",
            " -9.29383578e-01 -6.41917937e-01  1.50304556e-01 -4.77234448e-01\n",
            "  1.29758929e-01  4.61683503e-02 -8.45240701e-01  2.33228052e-01\n",
            " -1.88541849e+00  1.55059353e+00 -1.32632933e+00 -3.82439045e-01\n",
            "  3.30380306e-01 -2.45723238e+00  8.55505346e-01  8.45452847e-02\n",
            "  5.78967793e-01  1.02312159e+00  7.28546192e-01  7.47376393e-01\n",
            " -8.11125093e-01 -1.21052625e+00 -1.18035795e+00  3.66245565e-01\n",
            "  1.33832039e+00 -8.25771164e-01  1.38936360e+00  1.19121950e+00\n",
            "  1.06842137e+00 -1.49832339e+00  1.54808681e+00  1.97370109e+00\n",
            "  1.75749946e+00  1.69948070e+00 -1.21531465e+00 -9.05938979e-02\n",
            " -2.62944275e-01  1.02483055e+00 -1.21391230e+00 -3.81528257e-01\n",
            " -1.37327849e-01 -1.41037552e+00 -1.27483129e+00 -2.18002879e+00\n",
            " -3.41472760e-01  2.97035193e-01  1.00194463e+00  2.82228365e-01\n",
            "  8.11490914e-01 -7.38599125e-01  2.02882830e+00 -1.51432728e+00\n",
            " -6.19436529e-01 -3.38945093e-01 -6.21481226e-01  1.51076135e+00\n",
            "  2.11451836e-01  6.55874855e-01 -9.53627637e-01 -1.34739625e+00\n",
            " -9.79242120e-01 -4.45056330e-01  5.41732620e-01  1.22093503e+00\n",
            " -5.62745377e-01 -5.36492423e-01  6.58886227e-01 -8.70194830e-01\n",
            "  1.28993394e+00 -1.86863157e-01 -1.29284509e-02 -1.55450798e+00\n",
            " -7.86443350e-01  1.23419944e-01 -1.15908059e+00 -1.54353674e+00\n",
            "  5.76978084e-01  9.47843211e-01 -1.77852957e+00  5.25276960e-01\n",
            "  5.60594180e-01 -1.71155298e-02 -1.14691125e+00  1.10180235e+00\n",
            " -4.68283387e-01  4.03975460e-01  5.00201579e-01 -6.72284390e-01\n",
            "  1.09954783e+00  6.70494832e-01  2.66808803e-01  1.31344888e+00\n",
            " -1.76707070e-01 -1.16194392e+00  1.62612486e-02  6.25771659e-01\n",
            "  1.84224011e-01  8.19728950e-02 -9.18546870e-01 -1.52329533e+00\n",
            " -3.05746528e-01  1.43394987e+00  1.44839122e-01 -2.54303990e+00\n",
            "  1.40320779e+00 -6.96339919e-01 -4.24479807e-01  3.75032857e-01\n",
            " -7.16016510e-01 -4.67767994e-01  6.32884931e-01  1.81973425e+00\n",
            " -6.08340885e-01  8.63717785e-01 -1.20216553e-01 -4.77944651e-01\n",
            " -8.95574327e-01 -6.79194324e-01  1.93011045e-01 -1.00379541e+00\n",
            "  1.48859142e+00  3.86337593e-01 -6.07727490e-02 -1.45408112e+00\n",
            "  2.13033003e-01 -5.28596095e-01 -7.50077646e-01 -3.60388301e-01\n",
            " -1.17467732e+00  1.26560768e+00 -3.74038164e-01 -3.63670387e-01\n",
            "  1.07533558e-01  1.14267223e+00  2.81383065e-01  5.12893359e-01\n",
            "  6.54389160e-01 -1.44526313e+00 -6.36702894e-01  9.20261280e-01\n",
            "  8.18113619e-01 -1.35662932e+00 -2.45071511e+00 -1.34725688e+00\n",
            "  7.69199307e-01 -5.06205395e-01 -1.34463500e+00 -2.64212411e-01\n",
            "  1.34162533e+00 -1.76655224e+00 -1.84241782e+00 -2.01836491e-01\n",
            " -3.08705822e-01  3.28099392e-01  2.92254873e-01  6.06156379e-01\n",
            "  6.27587281e-01 -1.04441390e+00  1.08841765e+00  1.81501223e+00\n",
            "  1.82155340e-01  9.09892540e-01 -1.73969055e+00  2.47816056e-01\n",
            " -1.55040336e+00 -5.44526596e-01 -5.19960566e-01 -1.34178969e-01\n",
            " -8.73301222e-01  9.72873397e-01  3.76891308e-02 -1.27095728e+00\n",
            " -1.38809488e+00  4.67492410e-01  2.09698477e+00  3.96516114e-01\n",
            "  6.66069084e-01  3.53980124e-01  6.26212931e-01  4.82943934e-01\n",
            "  4.53707961e-01 -8.22205282e-01  6.10999310e-03 -7.70459543e-02\n",
            " -7.38536563e-01  1.15154583e-01 -9.58184680e-01  7.74913456e-01\n",
            "  1.36317666e+00 -8.63385131e-01  9.55206785e-01  1.18742210e+00\n",
            " -6.34690975e-01 -1.55377852e+00  8.80460698e-01  3.55608527e-01\n",
            " -2.16212115e-01 -1.09900640e+00 -2.42192993e-01  6.74150476e-01\n",
            " -1.11622646e+00 -3.83031187e-01 -1.90016441e+00  6.00058302e-01\n",
            "  7.61610649e-01 -1.13947496e+00  3.87789378e-01  1.63425166e+00\n",
            "  5.70260433e-02 -3.07798526e-01 -1.22894974e+00 -7.73407991e-01\n",
            " -1.45214730e-01  1.57506156e+00  6.41081777e-01 -6.01612220e-01\n",
            " -1.88041777e-02 -1.43852554e+00 -6.55588344e-01  1.78814044e+00\n",
            "  1.03245877e+00 -1.69513031e+00 -1.48858367e+00 -3.40067811e-01\n",
            "  8.40074089e-01  1.60784763e+00  1.57464120e-01 -6.47692324e-01\n",
            " -1.81968512e-01  7.46694088e-01  3.76411517e-01  3.60274931e-02\n",
            " -2.07503719e-01  2.57231626e-01 -2.41802507e-01 -4.38692282e-01\n",
            " -2.29167236e-01 -7.88782285e-01  1.49789363e+00  9.22948043e-01\n",
            "  1.69443673e+00  1.55620461e+00  1.87215873e+00 -2.85686860e+00\n",
            "  7.93518434e-01 -8.09758573e-01 -5.11212201e-01 -8.35707544e-01\n",
            "  2.30878790e-01 -9.35013061e-01  1.92966207e+00  3.67949576e-01\n",
            " -1.49069631e+00  6.28576461e-01 -1.70457218e+00 -3.39975507e-01\n",
            "  9.62076111e-01 -2.40181568e-01 -1.41302754e-01 -8.38380682e-01\n",
            "  1.77452952e+00  9.41483884e-01  7.96713265e-01 -3.68976537e-01\n",
            " -9.89063072e-01  1.57060418e-01  2.35834483e-01 -1.25576269e+00\n",
            " -9.69253329e-01  2.29617385e-01 -4.46613264e-01  1.62270141e+00\n",
            " -8.11161197e-01 -2.70535645e-01 -3.67428867e-01 -2.11095900e-01\n",
            "  3.30723054e-01  1.01446306e+00  2.61773181e-01  3.36108396e-01\n",
            "  9.32954841e-03  1.09506790e-01  9.07340185e-01  4.44651756e-01\n",
            " -1.97898930e-01  6.98322246e-01  1.29833218e+00 -8.08006652e-02\n",
            " -8.67279583e-01 -6.71928912e-01  3.08808184e-01 -3.04450119e-01\n",
            "  1.39037186e+00  1.31247306e+00  2.17664175e-01 -1.05239234e-01\n",
            " -1.11432132e+00 -4.26703008e-01  4.93164247e-03  9.27456788e-01\n",
            " -3.16387986e-01  2.42645786e-01 -2.39920132e+00 -1.80329261e+00\n",
            "  4.62986129e-01 -9.34153102e-01  1.01165845e-01 -2.25691437e+00\n",
            "  1.69820233e+00 -1.23300647e+00  6.87865281e-01 -1.86776990e+00\n",
            " -1.22686002e+00  4.75614525e-01  5.09277323e-01 -1.21142500e+00\n",
            " -1.70322461e+00 -1.13964905e+00  1.42767683e+00 -2.16694042e+00\n",
            " -1.23928846e+00  1.51358616e+00  1.31722638e+00  1.14109255e+00\n",
            "  4.43941107e-01  1.98513620e+00 -8.62611589e-02 -1.52302684e+00\n",
            " -2.85086855e-01  6.14879846e-01 -4.73324351e-01  5.00822682e-01\n",
            " -1.18054754e+00 -8.11532633e-01 -2.37430651e+00 -5.80368734e-01\n",
            " -1.33352143e+00  3.46600777e-01 -9.97948943e-01 -9.20015170e-01\n",
            "  7.91527782e-02 -7.39539438e-01  1.68173812e-01  8.93955571e-01\n",
            "  2.97681662e-01 -6.10446740e-01 -8.45745569e-01  1.76229568e+00\n",
            "  2.73265139e+00 -6.08152414e-01 -1.66553792e+00 -2.09415298e+00\n",
            " -1.72229727e+00 -7.54775712e-01  7.74702622e-01  3.10358134e-01\n",
            "  1.08669231e+00 -3.87779219e-01 -1.07293093e-01 -7.05933981e-01\n",
            " -3.98114684e-01  6.28997669e-01  9.78494614e-01 -9.07818045e-01\n",
            " -6.08899701e-01  1.59849858e+00 -1.38986764e-01  1.77714535e+00\n",
            " -2.54262239e-01  4.43406397e-01 -8.93799120e-01 -2.64171086e+00\n",
            "  1.33479827e+00 -9.88178061e-01 -2.87666402e+00  2.74704899e-01\n",
            "  4.56979275e-01  5.29235329e-01 -1.63221775e+00  2.63590309e-01\n",
            "  3.56652004e-01  3.58614421e-01  2.48867785e-01 -1.54662477e+00\n",
            " -9.64547838e-01 -2.06710802e+00  2.44992618e+00  1.80113950e-01\n",
            " -5.21627979e-01  1.05242949e+00 -8.54563104e-01 -1.30268873e+00\n",
            " -9.64427613e-04  2.21826721e-01 -6.22214304e-01 -1.90163000e+00\n",
            " -1.74974505e+00  5.43835750e-03  6.87890871e-01 -1.61258514e+00\n",
            " -3.19422865e-01 -8.33663753e-02 -3.87318979e-01 -1.85096658e-01\n",
            "  1.16817334e+00  1.40038767e+00  5.91186297e-01 -3.69940105e-01\n",
            "  2.18558732e-02  1.58050621e+00  3.16561690e-01 -1.59248908e+00\n",
            " -9.72805837e-01 -2.66024965e-01 -1.70365348e+00  9.25179347e-03\n",
            " -7.54763764e-01 -5.24012297e-01 -1.48117979e+00 -2.55346980e+00\n",
            " -3.80269471e-01 -3.60008756e-01  1.07507541e+00 -1.63477122e+00\n",
            "  7.41059866e-03  2.13569462e+00  2.20130438e-01  7.15851760e-01\n",
            "  1.94215156e+00 -9.76684509e-01  1.00703973e+00 -9.66978543e-01\n",
            " -3.26148573e-01 -9.43389083e-01  1.23194985e-01 -1.19951505e+00\n",
            "  1.36990723e+00  6.86057390e-01 -3.45643505e-01 -1.89084158e+00\n",
            "  1.48379772e-01 -6.97418288e-03  4.16953004e-01  7.65030624e-02\n",
            " -6.60635587e-01  1.29293887e+00 -6.08365536e-02 -3.40640359e-01\n",
            " -9.73548905e-02 -1.31514503e+00 -5.23070996e-02 -5.61431576e-01\n",
            "  1.06226585e+00 -1.69106684e+00 -1.69356984e+00  5.74171337e-01\n",
            " -1.23865579e+00 -1.12995215e+00  1.45737722e+00  9.41007912e-03\n",
            " -5.23570582e-01 -5.33940262e-01 -6.40384909e-01 -4.15641902e-01\n",
            "  6.05766132e-02 -5.16802543e-01  2.37440244e-01  9.68391630e-01\n",
            "  6.88054235e-01 -1.57461652e+00  5.68002341e-01 -9.05884078e-02\n",
            "  1.53995193e+00 -2.84643702e-01  1.13291092e+00  4.96617038e-01\n",
            "  1.62745016e+00  3.67589267e-01 -2.66638367e+00  1.22102936e+00\n",
            " -1.85993156e-01 -1.03282544e+00  1.23439741e+00  3.62284339e-01\n",
            " -1.50816121e+00  4.73788381e-01 -6.48871533e-01  1.28612878e+00\n",
            "  1.03663834e+00  2.09854417e-02 -3.61333127e-01 -6.72448228e-01\n",
            " -6.97340251e-01  8.79909035e-01  1.31403582e+00 -1.17839718e+00\n",
            " -2.23913647e-03  9.58205272e-01 -5.25806542e-02 -6.57951757e-01\n",
            "  6.29563885e-01 -1.59020880e-02  5.88376297e-01  1.60523306e+00\n",
            "  1.83564968e-01 -4.25500916e-01 -1.44748427e+00  2.65682202e-01\n",
            " -9.79498817e-01 -7.42532794e-01 -2.56896647e-01 -8.82937361e-01\n",
            " -3.66680023e-01  2.99983504e-01 -1.17852832e+00 -6.22671210e-01\n",
            "  3.03249354e-01  5.39406100e-01  5.47406315e-01 -5.29496931e-01\n",
            "  1.24294416e+00 -6.36151123e-02  9.22943041e-01  1.37316961e+00\n",
            " -6.57890036e-01  1.92773348e-01 -4.64827868e-01  9.58279364e-01\n",
            " -1.18638015e-02 -3.90256203e-01 -3.57681171e-01 -1.12135299e+00\n",
            "  5.38935870e-01  6.39039022e-02 -1.84546267e-01 -1.24742808e+00\n",
            "  7.81682733e-01  1.71911546e-01 -1.45684018e+00  8.79897465e-01\n",
            " -3.15268949e-01 -5.68383880e-01  1.51566389e+00  1.33442964e+00\n",
            "  8.80344985e-01  7.88289977e-02  4.85808617e-01 -1.89909772e-01\n",
            "  6.29915316e-01 -8.11536285e-01  3.76804737e-01  1.39376838e+00\n",
            " -2.49599127e+00 -8.93479151e-02 -3.74736992e-01  1.66708737e+00\n",
            "  5.46210870e-02 -1.62844742e+00 -6.64740369e-01  5.82324798e-01\n",
            "  9.66304704e-02  8.84572963e-01 -8.57567499e-01  1.11042358e+00\n",
            " -1.07084934e+00  1.17407074e+00 -9.11389540e-01  3.17673319e-01\n",
            "  5.97778705e-02  1.29534844e-01 -1.58733179e+00 -1.08650625e+00\n",
            " -2.23422871e-02  1.65983229e+00  2.19615390e+00  1.98519467e+00\n",
            "  1.78513378e-01  5.12554000e-01 -1.39603105e+00 -7.03018677e-01]\n"
          ]
        },
        {
          "output_type": "execute_result",
          "data": {
            "text/plain": [
              "(array([  7.,   9.,  10.,  16.,  44.,  49.,  67.,  87.,  76.,  96., 118.,\n",
              "        105.,  86.,  70.,  63.,  48.,  27.,  14.,   7.,   1.]),\n",
              " array([-2.91219986, -2.6299573 , -2.34771474, -2.06547217, -1.78322961,\n",
              "        -1.50098705, -1.21874449, -0.93650192, -0.65425936, -0.3720168 ,\n",
              "        -0.08977423,  0.19246833,  0.47471089,  0.75695345,  1.03919602,\n",
              "         1.32143858,  1.60368114,  1.88592371,  2.16816627,  2.45040883,\n",
              "         2.73265139]),\n",
              " <a list of 20 Patch objects>)"
            ]
          },
          "metadata": {},
          "execution_count": 23
        },
        {
          "output_type": "display_data",
          "data": {
            "image/png": "[encoded data removed]",
            "text/plain": [
              "<Figure size 432x288 with 1 Axes>"
            ]
          },
          "metadata": {
            "needs_background": "light"
          }
        }
      ]
    },
    {
      "cell_type": "markdown",
      "metadata": {
        "id": "G0exvwBbShBE"
      },
      "source": [
        "### generate a sine curve"
      ]
    },
    {
      "cell_type": "code",
      "metadata": {
        "id": "HgQmRXzMShBE",
        "colab": {
          "base_uri": "https://localhost:8080/",
          "height": 313
        },
        "outputId": "eb65ce43-7428-4944-c4e7-4215b589b5ff"
      },
      "source": [
        "theta = np.linspace(0, 2*np.pi, 100)\n",
        "# 0부터 2파이까지(360도) 총 100개의 숫자를 만들어라, 등간격으로! 벡터를 먼저 만들어 내었음\n",
        "# 등간격의 값들을 s에 넣었음\n",
        "\n",
        "s = np.sin(theta) #문제: theta의 길이는 어떻게 되는가? 각도에 대한 사인 출력값\n",
        "\n",
        "plt.plot(theta, s, '.') \n",
        "# theta 1d array, 벡터 값이 100개, 각도에 해당되는 사인 값이 100개 대응되어 있음\n",
        "# theta에 x값을, y에는 s값을, '.'을 써주면 decoration처럼 점들로 나옴\n",
        "# (0,0)이 theta의 나오는 첫번째와 s에 나오는 첫번째 값에 해당함\n",
        "# 사인함수는 내부적으로 radian 값만 받을 수 있음\n",
        "\n",
        "plt.xlabel('angel (radian)')\n",
        "plt.ylabel('value')\n",
        "plt.title('my first sine curve')\n",
        "theta.shape"
      ],
      "execution_count": null,
      "outputs": [
        {
          "output_type": "execute_result",
          "data": {
            "text/plain": [
              "(100,)"
            ]
          },
          "metadata": {},
          "execution_count": 26
        },
        {
          "output_type": "display_data",
          "data": {
            "image/png": "[encoded data removed]",
            "text/plain": [
              "<Figure size 432x288 with 1 Axes>"
            ]
          },
          "metadata": {
            "needs_background": "light"
          }
        }
      ]
    },
    {
      "cell_type": "code",
      "metadata": {
        "id": "WTqXoomZBbBk",
        "colab": {
          "base_uri": "https://localhost:8080/",
          "height": 312
        },
        "outputId": "36320974-4495-4b63-865e-249b82a42f0f"
      },
      "source": [
        "theta2 = np.linspace(0, 2*np.pi, 100) + np.pi/2 \n",
        "# 90도부터 2파이하고 90도를 더 가게 만듦 90도씩 더해준 것 0값-90도\n",
        "# np.pi/2는 90도 그래서 90도부터~450도까지 \n",
        "\n",
        "s2 = np.sin(theta2) # 위의 벡터값을 사인에 넣는 것\n",
        "\n",
        "plt.xlabel('angel (radian)')\n",
        "plt.ylabel('value')\n",
        "plt.title('my first sine curve')\n",
        "plt.plot(theta2, s2, 'b:')\n",
        "# 위와 아래의 각도차이를 Phase difference라고 함, 위상차"
      ],
      "execution_count": 24,
      "outputs": [
        {
          "output_type": "execute_result",
          "data": {
            "text/plain": [
              "[<matplotlib.lines.Line2D at 0x7f8e9bf3f450>]"
            ]
          },
          "metadata": {},
          "execution_count": 24
        },
        {
          "output_type": "display_data",
          "data": {
            "image/png": "[encoded data removed]",
            "text/plain": [
              "<Figure size 432x288 with 1 Axes>"
            ]
          },
          "metadata": {
            "needs_background": "light"
          }
        }
      ]
    },
    {
      "cell_type": "code",
      "metadata": {
        "id": "TuH489v9BvQ7",
        "colab": {
          "base_uri": "https://localhost:8080/"
        },
        "outputId": "d729e923-d983-4c38-8d1f-12bd39aa0f10"
      },
      "source": [
        "np.corrcoef(s,s2)"
      ],
      "execution_count": null,
      "outputs": [
        {
          "output_type": "execute_result",
          "data": {
            "text/plain": [
              "array([[1.00000000e+00, 2.41915449e-17],\n",
              "       [2.41915449e-17, 1.00000000e+00]])"
            ]
          },
          "metadata": {},
          "execution_count": 38
        }
      ]
    }
  ]
}