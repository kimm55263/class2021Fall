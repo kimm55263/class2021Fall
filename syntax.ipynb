{
  "nbformat": 4,
  "nbformat_minor": 0,
  "metadata": {
    "kernelspec": {
      "display_name": "Python 3",
      "language": "python",
      "name": "python3"
    },
    "language_info": {
      "codemirror_mode": {
        "name": "ipython",
        "version": 3
      },
      "file_extension": ".py",
      "mimetype": "text/x-python",
      "name": "python",
      "nbconvert_exporter": "python",
      "pygments_lexer": "ipython3",
      "version": "3.7.1"
    },
    "colab": {
      "name": "syntax.ipynb",
      "provenance": [],
      "include_colab_link": true
    }
  },
  "cells": [
    {
      "cell_type": "markdown",
      "metadata": {
        "id": "view-in-github",
        "colab_type": "text"
      },
      "source": [
        "<a href=\"https://colab.research.google.com/github/kimm55263/class2021Fall/blob/main/syntax.ipynb\" target=\"_parent\"><img src=\"https://colab.research.google.com/assets/colab-badge.svg\" alt=\"Open In Colab\"/></a>"
      ]
    },
    {
      "cell_type": "code",
      "metadata": {
        "id": "Fu2mzgrqSLAU",
        "outputId": "283876b5-0fc9-4961-d92d-d242b3c222de"
      },
      "source": [
        "a = [1, 2, 3, 4]\n",
        "for i in a:\n",
        "    print(i)"
      ],
      "execution_count": null,
      "outputs": [
        {
          "output_type": "stream",
          "text": [
            "1\n",
            "2\n",
            "3\n",
            "4\n"
          ],
          "name": "stdout"
        }
      ]
    },
    {
      "cell_type": "code",
      "metadata": {
        "colab": {
          "base_uri": "https://localhost:8080/"
        },
        "id": "F99N57s9Eq8a",
        "outputId": "2b5cd438-4bc2-4900-b487-d53233c631cc"
      },
      "source": [
        "a = [1, 2, 3, 4] # for는 같은 패턴을 여러 번 반복을 해 줌\n",
        "for i in a: # 리스트 a에 있는 것들 4개를 가지고, 첫 번째 것부터 제일 끝에 있는 것까지 i 변수에 넣어 줘라 for loop\n",
        "# print(a[0])\n",
        "# print(a[1])\n",
        "  print(i) \n",
        "print(i+1) #시험 문제, 위에는 1,2,3,4찍음, 마지막에 찍었던 4가 내려와서 4+1=5가 되었음\n",
        " \n",
        "\n"
      ],
      "execution_count": null,
      "outputs": [
        {
          "output_type": "stream",
          "name": "stdout",
          "text": [
            "1\n",
            "2\n",
            "3\n",
            "4\n",
            "5\n"
          ]
        }
      ]
    },
    {
      "cell_type": "code",
      "metadata": {
        "id": "XSJxLJVCSLAW",
        "outputId": "921b10b7-3bc8-4345-a6b2-16253a900c95"
      },
      "source": [
        "a = [1, 2, 3, 4]\n",
        "for i in range(len(a)): # range가 도는 것\n",
        "    print(a[i])"
      ],
      "execution_count": null,
      "outputs": [
        {
          "output_type": "stream",
          "text": [
            "1\n",
            "2\n",
            "3\n",
            "4\n"
          ],
          "name": "stdout"
        }
      ]
    },
    {
      "cell_type": "code",
      "metadata": {
        "id": "My_yRjgARDeC",
        "colab": {
          "base_uri": "https://localhost:8080/"
        },
        "outputId": "57aca080-db00-4747-cfc8-8691e3d16ff8"
      },
      "source": [
        "a = [1, 2, 3, 4]\n",
        "\n",
        "len(a) #component의 개수를 출력해 줌, 셀 마지막 부분은 print를 하지 않아도 마지막 부분만 출력함\n",
        "\n",
        "b = len(a)\n",
        "b\n",
        "\n"
      ],
      "execution_count": null,
      "outputs": [
        {
          "output_type": "execute_result",
          "data": {
            "text/plain": [
              "4"
            ]
          },
          "metadata": {},
          "execution_count": 8
        }
      ]
    },
    {
      "cell_type": "code",
      "metadata": {
        "id": "23b48CUEHRly",
        "colab": {
          "base_uri": "https://localhost:8080/"
        },
        "outputId": "6bcc10e1-1b5c-47e6-de65-bc50bee23602"
      },
      "source": [
        "# a = [1, 2, 3, 4]\n",
        "# a를 받지 않고, 숫자로 만들겠다\n",
        "# for i in range (4) : # range 4 (0,1,2,3)이 만들어지는 것\n",
        "    # print(i)\n",
        "\n",
        "# a = [1, 2, 3, 4]\n",
        "# for i in range(4): #4번 도는 것\n",
        "  # print(a[i])\n",
        "\n",
        "a = [1, 2, 3, 4]\n",
        "for i in range(len(a)): #4번 도는 것, 4이상을 넣으면 없는 index -> error가 뜸\n",
        "  print(a[i])"
      ],
      "execution_count": null,
      "outputs": [
        {
          "output_type": "stream",
          "name": "stdout",
          "text": [
            "1\n",
            "2\n",
            "3\n",
            "4\n"
          ]
        }
      ]
    },
    {
      "cell_type": "code",
      "metadata": {
        "id": "VTfxVRdgSLAW",
        "outputId": "7b430ba8-015e-4296-c883-ce2b3f9ed43b"
      },
      "source": [
        "a = ['red', 'green', 'blue', 'purple']\n",
        "for i in a:\n",
        "    print(i)"
      ],
      "execution_count": null,
      "outputs": [
        {
          "output_type": "stream",
          "text": [
            "red\n",
            "green\n",
            "blue\n",
            "purple\n"
          ],
          "name": "stdout"
        }
      ]
    },
    {
      "cell_type": "code",
      "metadata": {
        "id": "Vc-7pW85SLAW",
        "outputId": "9394e177-c8c8-44db-ff28-1e9566072bb3"
      },
      "source": [
        "a = ['red', 'green', 'blue', 'purple']\n",
        "for i in range(len(a)): # a의 개수를 계산해줌, 그리고 그 숫자 따라 출력이 됨\n",
        "    print(a[i])"
      ],
      "execution_count": null,
      "outputs": [
        {
          "output_type": "stream",
          "text": [
            "red\n",
            "green\n",
            "blue\n",
            "purple\n"
          ],
          "name": "stdout"
        }
      ]
    },
    {
      "cell_type": "markdown",
      "metadata": {
        "id": "CU-PtFv0IchB"
      },
      "source": [
        "여기서부터 if"
      ]
    },
    {
      "cell_type": "code",
      "metadata": {
        "id": "dD-ephD3SLAX",
        "outputId": "69d729f8-996a-41be-d84b-f1bd2a7c809c"
      },
      "source": [
        "a = 0\n",
        "if a == 0:\n",
        "    print(a)\n",
        "else:\n",
        "    print(a+1)"
      ],
      "execution_count": null,
      "outputs": [
        {
          "output_type": "stream",
          "text": [
            "0\n"
          ],
          "name": "stdout"
        }
      ]
    },
    {
      "cell_type": "code",
      "metadata": {
        "id": "vRrkYmAMIgyM",
        "colab": {
          "base_uri": "https://localhost:8080/"
        },
        "outputId": "09fdb1d1-bb27-4bc9-f119-77f54fba2d4d"
      },
      "source": [
        "a = 2 # 하나는 content를 assign\n",
        "if a == 0: # 진짜 equal sign\n",
        "  print(a) \n",
        "else:\n",
        "  print(a+1)"
      ],
      "execution_count": null,
      "outputs": [
        {
          "output_type": "stream",
          "name": "stdout",
          "text": [
            "3\n"
          ]
        }
      ]
    },
    {
      "cell_type": "code",
      "metadata": {
        "id": "M0AZaDMvSLAY",
        "outputId": "b25a5fe6-defa-4549-85b0-0c146ff7a2a0"
      },
      "source": [
        "for i in range(1, 3): # outer loop는 1, 2해서 2번 돌게 되는 것, 총 print outdms 4번찍히게 되는 것\n",
        "    for j in range(3, 5): # i가 1인 상태에서 2번 돌아가게 되는 것 시험문제, inner loop는 3, 4해서 2번 돌아가게 됨\n",
        "        print(i*j)"
      ],
      "execution_count": null,
      "outputs": [
        {
          "output_type": "stream",
          "text": [
            "3\n",
            "4\n",
            "6\n",
            "8\n"
          ],
          "name": "stdout"
        }
      ]
    },
    {
      "cell_type": "code",
      "metadata": {
        "id": "2c2mU9wXSrK4",
        "colab": {
          "base_uri": "https://localhost:8080/"
        },
        "outputId": "ac03eaa2-29ee-4e13-dcd7-9a064d9b6b75"
      },
      "source": [
        " for i in range(4):\n",
        "    print(i)\n",
        "\n",
        "for i in range (1, 3):\n",
        "  print(i)"
      ],
      "execution_count": null,
      "outputs": [
        {
          "output_type": "stream",
          "name": "stdout",
          "text": [
            "0\n",
            "1\n",
            "2\n",
            "3\n",
            "1\n",
            "2\n"
          ]
        }
      ]
    },
    {
      "cell_type": "code",
      "metadata": {
        "id": "ZPpZmVIHSLAY",
        "outputId": "0bbcc529-c1d8-4774-e1ad-9de8b9e065ce"
      },
      "source": [
        "for i in range(1, 3): # 1, 2 돌고\n",
        "    for j in range(3, 5): # 3, 4 돌고 \n",
        "        if j >=4: \n",
        "            print(i*j) \n",
        "\n",
        "            # for i in range(1, 3): # 1, 2 돌고\n",
        "               # for j in range(3, 5): # 3, 4 돌고 \n",
        "               # if j >=4:  # indent가 이렇게 되어 있어면 outer for에 포함된 것\n",
        "            # print(i*j) "
      ],
      "execution_count": null,
      "outputs": [
        {
          "output_type": "stream",
          "text": [
            "4\n",
            "8\n"
          ],
          "name": "stdout"
        }
      ]
    },
    {
      "cell_type": "code",
      "metadata": {
        "id": "JQXk5vi0SLAY",
        "colab": {
          "base_uri": "https://localhost:8080/"
        },
        "outputId": "10a979ab-d8c8-40d7-8109-015a24ab055d"
      },
      "source": [
        "a = [1, 2, 3, 4]\n",
        "b = [i for i in a if i >=2] # 리스트를 만들어 주기 위해서 사용을 하게 됨\n",
        "print(b)\n",
        "\n",
        "for i in a :\n",
        "  if i >=2 :\n",
        "    print(i)"
      ],
      "execution_count": null,
      "outputs": [
        {
          "output_type": "stream",
          "name": "stdout",
          "text": [
            "[2, 3, 4]\n",
            "2\n",
            "3\n",
            "4\n"
          ]
        }
      ]
    },
    {
      "cell_type": "code",
      "metadata": {
        "id": "MDmBGZ3LSLAZ",
        "outputId": "bd06f885-7334-43d9-d92d-848c615f6771"
      },
      "source": [
        "a = ['red', 'green', 'blue', 'purple']\n",
        "b = [i for i in a if len(i) >=4]\n",
        "b"
      ],
      "execution_count": null,
      "outputs": [
        {
          "output_type": "execute_result",
          "data": {
            "text/plain": [
              "['green', 'blue', 'purple']"
            ]
          },
          "metadata": {
            "tags": []
          },
          "execution_count": 13
        }
      ]
    },
    {
      "cell_type": "code",
      "metadata": {
        "id": "Hl6uqmA6VGnF"
      },
      "source": [
        "i for i in a # red~purple다 넣어라 조건: 그 다음 글자수가 4이상일 경우 i에 넣어라"
      ],
      "execution_count": null,
      "outputs": []
    },
    {
      "cell_type": "code",
      "metadata": {
        "colab": {
          "base_uri": "https://localhost:8080/"
        },
        "id": "WdtWuBJgVQ5K",
        "outputId": "1e326c34-69a3-4ae6-d720-0233d84ad5ef"
      },
      "source": [
        "len('test')"
      ],
      "execution_count": 21,
      "outputs": [
        {
          "output_type": "execute_result",
          "data": {
            "text/plain": [
              "4"
            ]
          },
          "metadata": {},
          "execution_count": 21
        }
      ]
    }
  ]
}