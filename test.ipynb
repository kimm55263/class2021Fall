{
  "nbformat": 4,
  "nbformat_minor": 0,
  "metadata": {
    "colab": {
      "name": "test.ipynb",
      "provenance": [],
      "authorship_tag": "ABX9TyMiPUFXJe1+Xcyo8EH8JbMj",
      "include_colab_link": true
    },
    "kernelspec": {
      "name": "python3",
      "display_name": "Python 3"
    },
    "language_info": {
      "name": "python"
    }
  },
  "cells": [
    {
      "cell_type": "markdown",
      "metadata": {
        "id": "view-in-github",
        "colab_type": "text"
      },
      "source": [
        "<a href=\"https://colab.research.google.com/github/kimm55263/class2021Fall/blob/main/test.ipynb\" target=\"_parent\"><img src=\"https://colab.research.google.com/assets/colab-badge.svg\" alt=\"Open In Colab\"/></a>"
      ]
    },
    {
      "cell_type": "markdown",
      "metadata": {
        "id": "7oWfNy_Z8W0F"
      },
      "source": [
        "제일 **처음** 해 보는 코딩입니다. \n",
        "변수 (variables), 제어문 (syntax), 함수 (function)"
      ]
    },
    {
      "cell_type": "code",
      "metadata": {
        "colab": {
          "base_uri": "https://localhost:8080/"
        },
        "id": "HsRVL2Uk7fnC",
        "outputId": "e870c7b6-af4f-4e10-e2a0-6f4e2c9f531c"
      },
      "source": [
        "a = 1 #변수는 equal sign이 아니라, 변수 a에 1이라는 값을 assign해 준다.\n",
        "b = 'hello' #변수에는 글자도 넣을 수 있다. 글자의 내용을 표현할 때는 text, string이라고도 하나 single quote를 사용한다.\n",
        "c = 1.1\n",
        "d = [1, 'abc', 2.1] #대괄호를 사용하면 tuple이 나옴\n",
        "\n",
        "print(a)\n",
        "print(b)\n",
        "print(c)\n",
        "print(d)\n",
        "\n",
        "#type(a) #integer int\n",
        "#type(b) #string str\n",
        "#type(c) #float\n",
        "\n",
        "print(type(a))\n",
        "print(type(b))\n",
        "print(type(c))\n",
        "print(type(d))\n",
        "\n"
      ],
      "execution_count": 19,
      "outputs": [
        {
          "output_type": "stream",
          "name": "stdout",
          "text": [
            "1\n",
            "hello\n",
            "1.1\n",
            "[1, 'abc', 2.1]\n",
            "<class 'int'>\n",
            "<class 'str'>\n",
            "<class 'float'>\n",
            "<class 'list'>\n"
          ]
        }
      ]
    }
  ]
}