{
  "nbformat": 4,
  "nbformat_minor": 0,
  "metadata": {
    "colab": {
      "name": "test.ipynb",
      "provenance": [],
      "authorship_tag": "ABX9TyN+Gnt0iIM0TFnYLg3PNC54",
      "include_colab_link": true
    },
    "kernelspec": {
      "name": "python3",
      "display_name": "Python 3"
    },
    "language_info": {
      "name": "python"
    }
  },
  "cells": [
    {
      "cell_type": "markdown",
      "metadata": {
        "id": "view-in-github",
        "colab_type": "text"
      },
      "source": [
        "<a href=\"https://colab.research.google.com/github/kimm55263/class2021Fall/blob/main/test.ipynb\" target=\"_parent\"><img src=\"https://colab.research.google.com/assets/colab-badge.svg\" alt=\"Open In Colab\"/></a>"
      ]
    },
    {
      "cell_type": "markdown",
      "metadata": {
        "id": "7oWfNy_Z8W0F"
      },
      "source": [
        "제일 **처음** 해 보는 코딩입니다. \n",
        "변수 (variables), 제어문 (syntax), 함수 (function)"
      ]
    },
    {
      "cell_type": "code",
      "metadata": {
        "colab": {
          "base_uri": "https://localhost:8080/"
        },
        "id": "HsRVL2Uk7fnC",
        "outputId": "19855422-e8e4-4596-f389-14fb25c62b2d"
      },
      "source": [
        "a = 1 # 변수는 equal sign이 아니라, 변수 a에 1이라는 값을 assign해 준다.\n",
        "b = 'hello' # 변수에는 글자도 넣을 수 있다. 글자의 내용을 표현할 때는 text, string이라고도 하나 single quote를 사용한다.\n",
        "c = 1.1\n",
        "d = [1, 'abc', 2.1] # 대괄호를 사용하면 tuple이 나옴\n",
        "e = {'a': 'apple'}\n",
        "f = {'apple': 'red fruit', 'banana': 'yellow fruit'}\n",
        "\n",
        "# print(a)\n",
        "# print(b)\n",
        "# print(c)\n",
        "# print(d)\n",
        "\n",
        "# type(a) #integer int\n",
        "# ype(b) #string str\n",
        "# type(c) #float\n",
        "\n",
        "# print(type(a))\n",
        "# print(type(b))\n",
        "# print(type(c))\n",
        "# print(type(d))\n",
        "print(type(e))\n",
        "\n",
        "print(b[0]) #python에서는 첫 번째가 0번째인 것. b에 들어가 있는 첫번째 단어를 찍어라\n",
        "print(b[0:2]) #0번째와 2-1번째 단어까지 출력\n",
        "print(d[1])\n",
        "print(d[1][1])\n",
        "print(f['apple']) # f 앞에 숫자를 넣어서 access를 하는 것이 아니아 표제어, keyword를 넣어 access를 해라 딕트 타입의 특징\n",
        "print(f['banana'])\n",
        "\n",
        "\n"
      ],
      "execution_count": null,
      "outputs": [
        {
          "output_type": "stream",
          "name": "stdout",
          "text": [
            "<class 'dict'>\n",
            "h\n",
            "he\n",
            "abc\n",
            "b\n",
            "red fruit\n",
            "yellow fruit\n"
          ]
        }
      ]
    },
    {
      "cell_type": "code",
      "metadata": {
        "id": "URsJLF6cPoCA",
        "outputId": "60f340f8-7623-4fd7-90f8-931bb72b4210",
        "colab": {
          "base_uri": "https://localhost:8080/"
        }
      },
      "source": [
        "a = [1,'a', [3, '4']]; # 시험 문제\n",
        "print(type(a)); \n",
        "print(a[0]); \n",
        "print(a[1]); \n",
        "print(a[2]); \n",
        "print(a[2][1])"
      ],
      "execution_count": 1,
      "outputs": [
        {
          "output_type": "stream",
          "name": "stdout",
          "text": [
            "<class 'list'>\n",
            "1\n",
            "a\n",
            "[3, '4']\n",
            "4\n"
          ]
        }
      ]
    },
    {
      "cell_type": "code",
      "metadata": {
        "id": "l7N07vBDPuUd"
      },
      "source": [
        "a =\t{\"a\": \"apple\", \"b\": \"orange\", \"c\": 2014} # 리스트로는 a = ['apple', 'orange', 'c': 2014]\n",
        "print(type(a))\n",
        "print(a[\"a\"])"
      ],
      "execution_count": null,
      "outputs": []
    }
  ]
}