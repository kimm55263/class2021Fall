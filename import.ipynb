{
  "nbformat": 4,
  "nbformat_minor": 0,
  "metadata": {
    "colab": {
      "name": "import.ipynb",
      "provenance": [],
      "include_colab_link": true
    },
    "kernelspec": {
      "name": "python3",
      "display_name": "Python 3"
    },
    "language_info": {
      "name": "python"
    }
  },
  "cells": [
    {
      "cell_type": "markdown",
      "metadata": {
        "id": "view-in-github",
        "colab_type": "text"
      },
      "source": [
        "<a href=\"https://colab.research.google.com/github/kimm55263/class2021Fall/blob/main/import.ipynb\" target=\"_parent\"><img src=\"https://colab.research.google.com/assets/colab-badge.svg\" alt=\"Open In Colab\"/></a>"
      ]
    },
    {
      "cell_type": "code",
      "metadata": {
        "id": "YcjySvN6B5uA",
        "outputId": "ae1976ee-1563-4a6d-ae64-a8d7a9586ea9",
        "colab": {
          "base_uri": "https://localhost:8080/"
        }
      },
      "source": [
        "import numpy as np\n",
        "n= np.random.randn(100)\n",
        "print(n)"
      ],
      "execution_count": 2,
      "outputs": [
        {
          "output_type": "stream",
          "name": "stdout",
          "text": [
            "[-6.93276035e-01 -8.90417873e-02 -3.04257764e-01  2.41815286e-01\n",
            " -1.70556325e+00  9.31482468e-01 -8.75951058e-02  3.76955404e-01\n",
            " -2.63581809e-01 -8.92880978e-01 -5.59776126e-03  4.50125071e-01\n",
            "  1.00991346e+00 -6.85307336e-01 -1.44103895e+00  2.08717131e-01\n",
            " -9.89371467e-01  7.06215692e-01 -6.09329262e-01  1.09304786e+00\n",
            "  6.89378630e-01 -6.47192696e-01 -1.06693606e+00 -3.64754953e-01\n",
            "  1.67897116e+00  6.43592529e-01  1.05090160e+00  1.05914384e+00\n",
            " -1.42841481e+00 -1.17702049e-02 -1.52868130e+00  2.60045070e-01\n",
            "  9.01873697e-02 -9.47300782e-01  1.42653636e+00  7.14268108e-01\n",
            " -1.14837524e+00 -1.42317382e+00  3.83167098e-01 -8.02394941e-01\n",
            " -2.58163972e-01 -2.19812495e-01  8.06232737e-01 -2.01356882e+00\n",
            "  5.32750633e-01 -9.83114056e-01  1.06148218e+00 -4.72606992e-01\n",
            "  9.49545705e-01  9.13897915e-02  9.35910124e-01  6.10668354e-02\n",
            "  9.26996137e-01 -5.02943008e-01  2.36966891e+00 -4.95517163e-01\n",
            "  1.09823299e+00 -3.51132512e-01 -3.46239406e-01 -1.46844178e+00\n",
            "  8.01676047e-01  1.35011481e+00 -9.18677188e-01  3.05905920e-01\n",
            " -1.79375784e+00 -1.64684364e+00 -2.19585004e+00 -1.45731190e+00\n",
            "  9.38640688e-01  1.22961887e+00  1.36334599e+00 -1.01357122e+00\n",
            "  7.71327641e-01 -1.48652585e-01 -7.38091975e-01  9.18096989e-05\n",
            " -8.15874522e-01  9.62238329e-01  1.40147245e-01 -1.51192515e+00\n",
            " -1.49296554e+00  4.34949408e-01  1.42604901e+00 -1.33391446e+00\n",
            " -2.51225055e-01  5.01182124e-01  7.97030180e-01  1.29249685e+00\n",
            "  1.66386428e+00 -3.06772994e-01 -3.90169052e-01 -8.08712200e-01\n",
            " -4.52913787e-01 -2.46730235e-01 -1.18819317e+00 -4.59121622e-01\n",
            "  7.25496926e-01 -1.64714303e-01 -4.08936220e-01  5.01237298e-01]\n"
          ]
        }
      ]
    },
    {
      "cell_type": "code",
      "metadata": {
        "id": "JXicrkYOzPRo",
        "outputId": "0aa79be4-3ecf-4634-ba80-3b30e800e10c",
        "colab": {
          "base_uri": "https://localhost:8080/"
        }
      },
      "source": [
        "import numpy as np\n",
        "n = np.random.randn(1000)\n",
        "print(n)"
      ],
      "execution_count": 9,
      "outputs": [
        {
          "output_type": "stream",
          "name": "stdout",
          "text": [
            "[-2.00648633e+00  6.77513804e-01  9.28939962e-01  4.34670766e-01\n",
            "  1.38159608e+00  1.35262151e+00  2.73356378e-01  1.06369257e+00\n",
            " -2.22152677e+00  7.78179161e-01  8.12079916e-01  6.30997446e-01\n",
            " -3.37299655e-01  1.78871367e-01 -2.87729875e-01  9.11630254e-01\n",
            " -1.03934057e+00 -6.56813088e-01 -1.00868496e+00 -9.21541968e-01\n",
            "  7.96845034e-02 -3.65824545e-01  2.46329276e-01 -6.78252991e-01\n",
            " -2.93207896e-01 -2.75711028e-02 -1.24238467e+00 -3.35637587e-01\n",
            "  7.86771577e-02 -3.81427872e-01  1.95819227e-01  4.95260804e-01\n",
            " -1.18665159e+00  1.82249622e+00 -1.44553244e+00 -3.79772877e-01\n",
            "  6.79533717e-01  7.75584430e-01 -7.50286973e-02  1.67138286e+00\n",
            "  1.01970255e+00 -1.05512908e+00  5.70251638e-01  1.66808564e+00\n",
            "  7.04732510e-03 -4.05449322e-02 -3.42131818e-01  7.00464861e-01\n",
            " -5.23283523e-01 -6.54832123e-01 -2.48873355e-01  1.46484603e-01\n",
            " -5.92027451e-01 -5.25071736e-01 -8.81505835e-02  9.94531907e-02\n",
            "  1.70899357e+00 -2.63866771e-01  7.35484565e-01  1.63352182e+00\n",
            "  7.84223098e-02  7.25320894e-01  1.37148203e-01 -7.43393241e-01\n",
            " -2.62435335e+00 -2.60085214e+00 -4.39713719e-01  7.32009516e-01\n",
            "  9.99119398e-01 -1.32302803e+00  5.20644785e-01 -1.30451436e-01\n",
            "  9.93571553e-01  1.44461344e+00 -8.45361434e-01  2.14131733e-01\n",
            " -1.39958542e+00 -3.10127715e-01 -8.82736369e-01  1.43833049e+00\n",
            " -3.96932385e-01 -3.98415723e-01 -8.83313392e-02  6.58043118e-02\n",
            " -1.17935230e+00 -2.34395090e+00  1.73332656e-01 -1.27675516e+00\n",
            " -7.80652296e-01 -9.10228915e-01  6.73974007e-01 -8.59778505e-01\n",
            " -1.39884223e+00 -2.10699489e+00 -1.16290682e-01  1.17017579e+00\n",
            "  5.72375928e-02 -8.46810725e-01  6.10167277e-04 -1.20580582e-01\n",
            " -6.50048700e-01  1.22137689e+00  4.14052883e-01 -1.64465681e-01\n",
            " -7.35204544e-01 -3.41060677e-02 -7.62230792e-01 -2.04994622e+00\n",
            " -4.03395292e-01 -1.11418464e+00  1.54537298e+00 -4.15469784e-01\n",
            " -8.03901709e-01  5.55393241e-01 -7.90086798e-01  3.84992118e-01\n",
            " -1.94090509e-01 -2.18328149e-01 -2.28889423e-01  4.72332172e-01\n",
            " -1.52936991e+00  5.56217614e-01  7.98996853e-01 -5.72286144e-02\n",
            "  5.52226468e-01 -9.16342562e-01 -1.23587063e+00  1.06409286e+00\n",
            " -8.87203636e-01  1.02299168e+00 -2.41802343e-01  4.76696791e-01\n",
            " -5.31009153e-01  2.30998602e+00  1.53524006e+00 -3.80295543e-01\n",
            " -1.04575115e+00 -8.23806260e-01  1.37239760e+00  2.65404197e-01\n",
            "  4.84031340e-01  1.16475452e+00  1.18757965e-01  1.32773351e+00\n",
            "  5.60699658e-01 -6.22028558e-01 -2.14236107e+00 -7.27350393e-01\n",
            "  5.69650680e-01 -8.68045841e-01 -1.55353456e+00  8.60438671e-01\n",
            "  7.78042677e-01 -8.27887443e-01 -5.23277676e-01  4.66068843e-01\n",
            "  1.45643726e-01 -5.68078089e-01 -1.65704435e+00  2.76112416e-01\n",
            "  1.10250401e+00  1.55402722e+00 -1.50601500e+00 -2.33722960e+00\n",
            "  3.31785499e-01 -8.92760695e-02  9.33838470e-01 -4.47433834e-01\n",
            "  1.39295900e+00 -4.26020597e-01 -1.49669313e+00 -4.30265340e-01\n",
            "  1.08657690e+00  6.09984277e-01 -4.04579899e-01  2.85058409e-01\n",
            "  8.60628890e-02 -1.02225348e+00  6.89029231e-01 -1.07042545e+00\n",
            " -8.09550622e-01 -2.40949876e+00  4.46276143e-01  3.06407511e-02\n",
            " -2.96170192e-01  3.90083788e-01 -9.21451948e-01  1.29631540e+00\n",
            "  1.48170514e+00 -4.82538064e-01 -1.17806840e+00  1.64020837e+00\n",
            "  2.74222724e-01 -4.79260966e-01  4.21742853e-01  2.35788280e-01\n",
            " -1.80891878e+00  1.98482140e+00  2.09365419e+00  4.14729678e-01\n",
            " -2.31204879e-01 -8.11907538e-01  1.32625962e+00 -6.97881683e-01\n",
            "  9.18009776e-01  1.37260303e+00 -6.44245089e-01  7.60661739e-01\n",
            " -4.60137801e-01 -3.56777425e-01 -8.49934265e-01 -3.08323277e-01\n",
            " -2.45931972e-01  1.93647559e+00 -8.90257567e-01 -5.93644072e-01\n",
            "  2.58018845e-01  3.49153139e-01 -1.13736517e+00  5.94722291e-01\n",
            "  1.88984065e+00 -7.04938840e-02 -9.72945954e-01 -2.07566502e+00\n",
            " -1.48686525e+00  3.85686495e-01 -2.75065798e-01 -1.13931503e-01\n",
            "  3.71909810e-01  8.94587007e-01  6.85560779e-01  5.37359710e-01\n",
            " -6.30393492e-01  1.44035591e+00 -9.20657509e-02  1.74498391e-01\n",
            " -9.61890151e-01  2.96317310e-01 -1.17169945e+00 -1.69280900e-02\n",
            " -1.49968231e+00  1.01110737e+00 -8.52103345e-01  4.47833485e-01\n",
            " -1.60210120e+00  1.97732250e-01  8.50865182e-02  1.86278423e-01\n",
            "  7.49616403e-02  1.84654830e+00 -1.13425234e-01  7.53820792e-01\n",
            "  7.21951184e-01  1.24565811e+00  8.35186470e-01 -8.11511241e-01\n",
            "  2.64318387e-01 -2.02159803e+00  4.56448425e-01  2.05311940e+00\n",
            "  7.33432510e-01  1.11258005e+00  7.67041509e-01  1.51192380e-01\n",
            "  1.46668180e+00 -4.17998245e-01  1.09782952e+00 -2.55350917e-01\n",
            "  7.11338593e-01  1.02077989e+00  1.79375876e-02 -1.92941933e+00\n",
            " -8.15237386e-01 -2.90912388e+00 -2.79404906e-01 -2.80944251e-01\n",
            "  9.39047702e-01 -1.57201772e+00 -1.29252462e+00  3.47898840e-01\n",
            " -6.32786497e-01 -1.76016567e+00 -7.40306446e-01  2.89311037e+00\n",
            " -1.66938443e+00 -1.04792264e+00  1.97810791e-01  2.62418441e+00\n",
            " -1.64374769e+00  1.27379029e+00 -2.65804799e-01 -1.82776242e+00\n",
            "  5.89939738e-02  2.18369818e-02 -4.98438479e-03 -2.64709044e-01\n",
            "  7.11894988e-01 -6.89921428e-01 -1.34701524e-01 -1.07405568e-01\n",
            "  2.53323013e+00  2.34315952e-01  1.41799515e+00  1.34516962e+00\n",
            "  2.78589628e-01 -4.42382537e-01 -2.34042294e-01  2.58330598e+00\n",
            " -9.88398650e-01  8.94078031e-01  7.20146529e-01 -1.91484433e+00\n",
            " -2.60429748e-01  1.11065117e+00 -1.25066463e+00  9.99554450e-01\n",
            "  1.75910739e-01  5.60845439e-01 -8.39563431e-01 -3.74279696e-01\n",
            "  1.27416196e+00  4.63906838e-01 -1.61870766e-02 -1.65765855e+00\n",
            "  5.02152444e-02  1.23626138e+00  1.05125482e+00  2.67429007e-01\n",
            "  1.22735986e+00 -1.06356553e-01 -6.32825807e-01 -1.64027702e+00\n",
            " -3.53277017e-01 -7.29957609e-01  4.43258650e-01  1.56031422e+00\n",
            " -2.91894933e-01  7.19813058e-02 -1.39044004e-01  2.34732127e+00\n",
            " -1.05268929e+00  1.26721523e-01 -2.27152472e-01 -4.89819762e-01\n",
            "  1.15126776e+00  9.21072057e-01  2.01268444e+00 -5.49021344e-01\n",
            " -3.74424026e-01  1.79038023e+00 -3.25896503e-01 -3.99115448e-01\n",
            "  7.13698312e-01 -1.41499393e+00 -5.19320570e-02 -7.13906959e-01\n",
            " -1.53974667e+00  1.14970674e+00  1.05044070e+00 -6.56477721e-01\n",
            " -7.43299573e-01  3.81060363e-01 -2.22853782e+00 -6.22953631e-01\n",
            " -7.98441892e-02  1.25647346e+00 -9.62456380e-02 -6.06492400e-01\n",
            "  1.52343053e-01  1.35964930e+00  7.43679273e-02  5.83156051e-01\n",
            " -1.23262815e-01  6.11656227e-01 -3.03002419e-01 -9.26091574e-01\n",
            "  6.44033498e-01  4.94178495e-01  1.53389115e+00 -5.04378414e-01\n",
            " -9.37279507e-01 -1.35492691e+00 -5.42582407e-01 -7.50711210e-01\n",
            " -1.02652975e+00  1.80641979e+00 -2.21574773e+00  3.59208335e-01\n",
            " -1.40872798e+00 -2.76873126e-01 -1.27167046e+00 -4.80209354e-01\n",
            " -1.65815347e-01 -1.21276650e-01  4.31593653e-01  9.22728531e-01\n",
            "  1.17266570e+00 -9.60269273e-01  3.68389248e-03 -1.20757793e+00\n",
            " -1.09607693e-01  2.26609152e-01 -2.25829232e-01  4.84662026e-01\n",
            "  1.28010362e-01 -7.38937985e-01 -1.27389990e-01 -8.73196257e-01\n",
            "  9.03761877e-02 -9.01471750e-01 -1.69659970e-02 -1.17760675e+00\n",
            "  8.99437469e-01  1.02890945e-01  1.20065027e+00  5.38419115e-01\n",
            " -9.57378675e-01  6.70778751e-01  2.79044384e-01  5.63779585e-01\n",
            " -2.05844172e-01  4.67254372e-01  1.92587414e+00  1.96649548e-01\n",
            "  1.42441771e+00  1.13315029e+00  4.19658812e-01  1.29026560e+00\n",
            " -2.30845015e+00 -1.23862225e+00  1.28469449e+00 -1.27366071e+00\n",
            " -1.51791591e+00  7.22268660e-03  1.48378302e-01  1.10731346e+00\n",
            "  3.37719805e-01 -1.43602818e+00 -1.33432216e+00 -3.50345081e+00\n",
            "  6.64421493e-01  5.36756494e-05 -5.38896425e-01 -1.11731434e+00\n",
            " -2.25683399e+00  3.25580357e-01 -3.69754859e-02 -2.69651973e-01\n",
            "  9.42982600e-01  1.68947451e+00 -1.68140939e+00 -4.65506718e-01\n",
            "  3.55296371e-01  1.74527878e-01 -3.39367009e-01  1.38252193e-01\n",
            " -8.25360796e-01 -1.23740051e+00 -1.70263806e+00  1.00079120e+00\n",
            " -7.47529417e-01  1.20736016e+00 -2.99373520e-01  6.48076953e-01\n",
            " -2.20997196e+00 -1.82984575e+00  1.03779018e+00  4.77099882e-01\n",
            " -2.47963045e-01 -8.64545913e-01  4.62012625e-01 -1.33051896e+00\n",
            " -1.09392064e+00  4.50504806e-01  6.84657821e-01 -1.76328966e+00\n",
            " -2.62364480e-01 -2.33087621e-02 -2.59167247e-03 -4.92612376e-01\n",
            " -4.04256830e-01 -9.03541374e-01 -4.48158781e-01  1.21333313e+00\n",
            " -1.27833609e+00 -9.07634648e-01 -1.05682672e+00 -9.24656718e-02\n",
            " -1.08377630e-01 -9.27359707e-01 -1.17218115e+00  9.98131868e-02\n",
            "  7.91609998e-01 -4.92810093e-03 -9.30695665e-01 -1.48692710e+00\n",
            " -4.92603611e-01  8.37547822e-01  1.16660940e+00  1.29508281e+00\n",
            " -1.23108050e+00 -1.26124037e+00 -8.09716892e-01 -1.35241107e+00\n",
            " -1.82737948e+00 -1.41316652e-01  1.69233069e+00  1.68511799e+00\n",
            "  2.19385578e+00 -1.20691004e+00  1.82195099e-01 -1.24810866e-01\n",
            "  3.87960999e-03  1.21160453e+00  1.19316654e+00 -7.88693159e-01\n",
            "  1.18882594e+00 -1.16117839e+00 -3.07298542e-02  1.05864424e+00\n",
            "  4.74201254e-01  4.34205424e-01  9.43627733e-01  8.96827963e-02\n",
            "  4.09362684e-01  8.08781948e-02 -4.16304381e-01  9.90495286e-01\n",
            " -1.08421703e-01  6.22112515e-02 -5.20794371e-01  1.25165668e-01\n",
            "  9.72425608e-01  1.18568604e+00 -9.40586914e-01  1.21979348e+00\n",
            " -6.19965846e-01 -7.23183642e-01 -7.73216879e-01 -7.75945035e-01\n",
            " -3.84441060e-01 -1.27626140e+00  8.57533084e-01  2.35273374e+00\n",
            "  1.73200786e-01 -5.77139138e-01  2.83006418e-01 -6.30792039e-01\n",
            "  2.76890365e-01 -2.08071442e-01 -1.32171007e+00 -1.63897105e+00\n",
            " -4.48314955e-01  1.47664543e+00  8.03070637e-01 -1.35106928e+00\n",
            "  6.57619227e-01 -1.67653602e-01  1.79324833e+00 -2.21893316e-02\n",
            " -1.66703953e-01  2.91558895e-01  6.21734446e-01  2.63354562e-01\n",
            " -5.02617872e-03 -2.65456197e-02  4.04936915e-01 -3.58410243e-01\n",
            " -1.72591404e-01  9.67546493e-01 -9.50848074e-01 -1.15818975e-01\n",
            "  7.07551579e-01 -3.38272079e-01 -1.37317136e+00 -7.65805911e-02\n",
            " -6.77799662e-02  9.67754961e-02 -4.36924264e-01 -1.20545453e+00\n",
            " -1.95479492e+00  8.31105897e-01 -5.47405218e-01 -8.11060681e-01\n",
            "  4.26523077e-01  8.58863837e-01  1.32146174e+00  2.13205734e-02\n",
            " -6.06720113e-01 -1.84920384e-01  1.40643008e+00  2.62015248e-01\n",
            "  1.98752389e-01 -7.51443306e-02  6.73919097e-01 -1.13388530e-02\n",
            "  1.09825388e+00  1.20505223e+00  8.23130112e-01  5.00553147e-01\n",
            " -6.38548821e-01 -5.77911372e-01  4.56865044e-01 -2.41714776e-01\n",
            " -9.71067466e-02 -2.02684872e-01 -1.11463662e+00 -4.43276973e-01\n",
            "  3.84736320e-02  9.11368701e-01  1.48459580e-01  6.99022942e-01\n",
            "  3.26868614e-01  1.07952969e+00  1.82239876e-01  1.61133306e-01\n",
            " -1.98563613e-01  8.82262797e-01  2.14047232e+00 -1.41256950e+00\n",
            " -8.68537178e-01  5.77803192e-01 -1.35718927e+00  4.73397957e-01\n",
            "  2.02940454e+00 -5.03932711e-01 -7.71881254e-01  6.97088317e-02\n",
            "  9.43895266e-01  8.28816079e-01  1.02816046e+00 -2.80296516e-01\n",
            " -3.54600480e-01  8.97704700e-02 -1.38166960e+00 -1.41085145e-01\n",
            " -9.22791169e-01  1.15796308e+00 -4.76681629e-01 -5.57508616e-02\n",
            "  9.29941168e-02 -7.63878860e-01  1.22060241e+00  4.36666971e-01\n",
            "  8.87050145e-01 -3.90243090e-01  4.35830775e-01 -9.46158343e-01\n",
            "  7.22010031e-01  9.63031083e-01 -5.37718198e-01  1.02320838e-01\n",
            " -7.88987218e-01  6.86354231e-01  1.28533963e+00  3.05867835e+00\n",
            "  2.88059322e-01  8.79344657e-02  5.03791432e-01  5.27791266e-02\n",
            "  1.59069967e+00  3.26342362e-01  6.64674970e-01  1.06417583e-01\n",
            "  1.23146046e+00 -1.27363811e-01  1.51821438e-02  1.85358045e-01\n",
            " -3.90894325e-01 -1.26357001e+00 -2.47672755e-01  6.22683620e-01\n",
            " -6.32306207e-01 -2.17961262e-01 -1.66781029e-01 -7.17547481e-02\n",
            " -1.13666582e-01  8.44664450e-01  1.56446826e+00 -4.04300646e-02\n",
            "  6.53912151e-01  6.17587062e-01 -5.69067984e-01  8.00151911e-01\n",
            "  8.77840053e-01 -2.35136600e+00 -1.67711837e+00 -4.85227763e-01\n",
            " -8.07380146e-02 -1.71278774e+00 -7.79562124e-01  2.07160623e+00\n",
            "  1.71742500e-01  6.87420668e-01  5.59916670e-01 -2.49718300e-01\n",
            " -8.32451247e-01  1.42638839e+00 -6.01274702e-01  7.94940671e-01\n",
            "  1.37566436e-01 -6.29235157e-01  1.41916030e+00 -2.75953438e-01\n",
            " -5.68024570e-01  1.20740840e+00  6.09143802e-01 -2.78057269e-01\n",
            " -6.39149472e-01  1.46273791e-01  3.26652869e-01  5.44568979e-02\n",
            "  1.66006537e+00  3.98203291e-01 -5.66581186e-01  9.76072203e-01\n",
            "  6.03688178e-01 -1.65954778e-01  1.76285988e+00 -1.23152153e-01\n",
            "  1.27484487e+00 -7.07207309e-01 -1.21396135e+00 -3.85705673e-01\n",
            " -1.33563841e+00  8.76385682e-01  3.93312416e-01  1.73676317e+00\n",
            " -5.25891085e-01  1.09225034e+00 -1.91222631e-01  1.26573826e+00\n",
            " -1.32050688e+00 -1.46400708e-01 -4.41934818e-01  7.19314354e-01\n",
            " -1.06796029e+00 -3.12008170e-01 -1.32271826e+00 -2.24969575e-01\n",
            " -1.11995768e+00  1.29643429e+00 -2.64594137e-01  1.43323294e+00\n",
            "  1.19842662e+00 -1.97593095e-01  3.19517757e-01  2.01820848e-01\n",
            "  1.06010004e+00  2.29597801e+00  2.17749793e-01 -3.06856815e-01\n",
            " -1.75378938e-01 -1.46531904e+00 -7.28330117e-01  4.04587948e-02\n",
            " -1.97155387e-01 -7.84449115e-01  1.55204207e+00  8.09257597e-01\n",
            "  1.51648087e-01  1.22126573e-01 -7.03202515e-02  7.08145290e-01\n",
            " -1.37853327e-01  1.79343497e+00  2.23864444e-01  3.58025648e-03\n",
            "  2.48979975e-01 -4.70766684e-01 -9.07861693e-01  8.78499751e-01\n",
            "  1.10209485e+00 -1.20262105e+00  1.19128636e+00  4.93444407e-01\n",
            " -1.53701251e-01  6.62448799e-01 -2.47885543e-01 -1.34880611e+00\n",
            "  7.00131584e-01 -1.16245807e+00 -9.93827274e-01  3.69670857e-02\n",
            "  4.11571765e-02  3.55608576e-01  1.41586192e-01 -7.36900777e-01\n",
            "  1.28104227e+00 -1.01880558e+00  5.06055558e-01 -4.47517195e-01\n",
            "  6.47155875e-01  1.87259752e+00 -4.81732781e-01  1.07414500e+00\n",
            " -7.36571814e-01  7.79872365e-01  2.99061915e-01 -1.90954830e-01\n",
            " -9.46894704e-02  8.84071545e-01  4.60276440e-01  7.12220129e-01\n",
            "  7.50881238e-01 -8.63651206e-01  1.66487408e+00  9.64739502e-01\n",
            "  9.54251231e-01  1.14981076e+00 -1.15840123e+00  4.46836769e-01\n",
            " -7.73360427e-01 -1.31673878e+00 -2.89088775e-01 -9.99982885e-01\n",
            " -2.34045179e-01 -1.85078310e+00 -1.03125124e+00 -5.41403822e-01\n",
            " -1.49888507e+00  2.88220273e-01 -6.09109489e-01 -1.47838432e+00\n",
            " -1.33901157e+00  1.43226586e+00 -1.39688873e-02 -1.08870675e+00\n",
            " -2.78777939e-01  1.88068328e+00 -4.68778743e-01  1.19961906e+00\n",
            " -5.94221871e-01  1.03954055e+00 -6.58921451e-01  7.26172055e-01\n",
            " -2.08654053e+00  1.58312863e+00  2.33553580e-01 -1.21550604e+00\n",
            " -1.96480086e+00 -2.01533386e+00 -5.06636284e-01  4.24210914e-01\n",
            "  3.88956346e-01  1.21722885e+00  9.01421339e-01  1.06303678e+00\n",
            " -9.33686243e-01 -1.48930602e+00 -6.55659878e-02  2.32710798e-01\n",
            " -7.67073202e-01  3.69107252e-01 -2.99205683e-01 -1.40606897e+00\n",
            " -9.93818223e-01 -1.19652137e-01 -1.64005124e+00 -3.08684850e-01\n",
            "  1.02536620e+00  1.38863961e+00  1.02284186e+00 -3.69189116e-01\n",
            " -1.26185460e+00  1.53910770e-01  8.46265577e-01 -8.72164975e-01\n",
            "  5.86345232e-01  1.03742854e+00 -1.71517529e-01 -2.11001383e+00\n",
            " -1.53890499e+00  1.01974388e-01  4.50605971e-01 -7.68452814e-01\n",
            "  4.64130377e-01  1.30870354e+00 -6.11836082e-01  3.86935269e-02\n",
            " -1.86266173e+00  1.79020239e-02  7.11231105e-02  1.00580676e+00\n",
            " -1.84651728e+00 -5.29835019e-01  1.62189968e-01  1.04127285e+00\n",
            " -2.82911709e-01  2.03549474e+00 -1.62931168e-01  2.99470275e-01\n",
            " -1.24223981e+00 -1.21413769e+00  5.17380190e-01  1.66826230e+00\n",
            " -7.92779676e-01 -1.13613248e+00 -6.12559193e-01 -3.82799136e-01\n",
            "  7.70268185e-01  7.46880362e-01 -1.49225748e+00 -1.45419981e+00\n",
            "  1.43831426e+00  1.04106105e+00 -4.60942207e-01 -9.02738458e-01\n",
            " -1.50484910e+00 -8.79314756e-01 -2.19511911e+00 -1.77489871e-01\n",
            " -1.23388286e-01  7.73878604e-01  4.92612748e-01  8.77307073e-01\n",
            "  1.34639917e+00  1.85341297e-01 -2.72201678e+00 -1.39904454e+00\n",
            " -1.48907704e-01 -6.91886491e-01 -2.01226387e+00 -1.40625352e+00\n",
            "  1.21882664e-02  1.92581403e-01  6.04935505e-01 -1.65353376e+00\n",
            " -8.22946731e-01 -7.62260591e-01 -5.73524706e-02  2.07509262e+00\n",
            "  3.50834334e-03  8.06173347e-03 -8.96059418e-01  7.71971250e-01\n",
            "  2.87465039e-01  8.80939221e-01 -6.23244155e-01  6.68055756e-01\n",
            " -1.65791723e+00  1.07711551e+00 -5.79465883e-01  4.83499624e-01\n",
            " -5.15661321e-01 -3.22589069e-01  1.76422602e+00  1.34745328e-02\n",
            "  2.57421292e-01 -3.06498753e-01  6.35501387e-01  2.71116067e-01\n",
            " -1.34768210e+00  4.74055177e-01  1.31137958e+00 -8.72486959e-01\n",
            " -7.67940440e-01 -7.04827223e-01 -2.54841633e+00  7.31617689e-01\n",
            " -4.11045080e-01  2.70696229e+00  5.19694010e-01 -3.35498292e-01\n",
            " -6.33541857e-01  3.73924667e-01  8.09043578e-01 -1.94396824e+00\n",
            "  4.04412711e-01 -9.17249487e-02 -7.42313621e-01 -3.96984258e-01\n",
            "  1.01151636e+00 -2.18824235e+00  2.88109798e-01  1.37022479e+00\n",
            " -1.52960312e-01 -1.06360860e+00  6.63371398e-01  1.88857857e+00\n",
            "  1.09736899e+00  1.29479067e+00  8.03967786e-01  8.48587245e-01\n",
            " -1.50219093e+00  5.21571284e-02 -9.51637944e-02  1.32973976e+00\n",
            "  1.39327292e+00  2.30189002e+00  8.82163626e-01 -1.00351428e+00\n",
            "  4.37105174e-01  2.30385432e-01  7.46422652e-01  4.68472641e-01\n",
            "  1.62375595e+00  6.38039696e-01 -3.66689023e-01 -4.38330442e-01]\n"
          ]
        }
      ]
    },
    {
      "cell_type": "code",
      "metadata": {
        "id": "oKT4vn4MwyLA",
        "colab": {
          "base_uri": "https://localhost:8080/",
          "height": 559
        },
        "outputId": "4122174f-54c7-489e-b781-2c41c414ccc4"
      },
      "source": [
        "import matplotlib\n",
        "matplotlib.pyplot.hist(n, bins = 50) # n에 이미 100개의 숫자가 들어가 있음, X 축은 숫자들이고, Y축은 개수를 알려줌\n",
        "# matplotlib hist - 이 사각형이 bins임"
      ],
      "execution_count": 13,
      "outputs": [
        {
          "output_type": "execute_result",
          "data": {
            "text/plain": [
              "(array([ 1.,  0.,  0.,  0.,  1.,  1.,  2.,  1.,  4.,  7.,  6.,  9.,  8.,\n",
              "         7., 13., 22., 25., 27., 21., 33., 44., 38., 37., 49., 55., 59.,\n",
              "        55., 53., 54., 32., 48., 37., 42., 35., 35., 33., 26., 23.,  9.,\n",
              "        13.,  9.,  6.,  7.,  2.,  5.,  1.,  2.,  1.,  1.,  1.]),\n",
              " array([-3.50345081, -3.37220823, -3.24096565, -3.10972306, -2.97848048,\n",
              "        -2.8472379 , -2.71599531, -2.58475273, -2.45351015, -2.32226756,\n",
              "        -2.19102498, -2.0597824 , -1.92853981, -1.79729723, -1.66605465,\n",
              "        -1.53481206, -1.40356948, -1.2723269 , -1.14108431, -1.00984173,\n",
              "        -0.87859915, -0.74735656, -0.61611398, -0.4848714 , -0.35362881,\n",
              "        -0.22238623, -0.09114365,  0.04009893,  0.17134152,  0.3025841 ,\n",
              "         0.43382668,  0.56506927,  0.69631185,  0.82755443,  0.95879702,\n",
              "         1.0900396 ,  1.22128218,  1.35252477,  1.48376735,  1.61500993,\n",
              "         1.74625252,  1.8774951 ,  2.00873768,  2.13998027,  2.27122285,\n",
              "         2.40246543,  2.53370802,  2.6649506 ,  2.79619318,  2.92743577,\n",
              "         3.05867835]),\n",
              " <a list of 50 Patch objects>)"
            ]
          },
          "metadata": {},
          "execution_count": 13
        },
        {
          "output_type": "display_data",
          "data": {
            "image/png": "[encoded data removed]",
            "text/plain": [
              "<Figure size 432x288 with 1 Axes>"
            ]
          },
          "metadata": {
            "needs_background": "light"
          }
        }
      ]
    },
    {
      "cell_type": "code",
      "metadata": {
        "colab": {
          "base_uri": "https://localhost:8080/",
          "height": 357
        },
        "id": "zQJ4LnbA-Hvz",
        "outputId": "f4412632-26ee-4f59-e565-365d64385b1c"
      },
      "source": [
        "import matplotlib.pyplot\n",
        "matplotlib.pyplot.hist(n)"
      ],
      "execution_count": 14,
      "outputs": [
        {
          "output_type": "execute_result",
          "data": {
            "text/plain": [
              "(array([  2.,  15.,  43., 128., 223., 253., 197., 104.,  29.,   6.]),\n",
              " array([-3.50345081, -2.8472379 , -2.19102498, -1.53481206, -0.87859915,\n",
              "        -0.22238623,  0.43382668,  1.0900396 ,  1.74625252,  2.40246543,\n",
              "         3.05867835]),\n",
              " <a list of 10 Patch objects>)"
            ]
          },
          "metadata": {},
          "execution_count": 14
        },
        {
          "output_type": "display_data",
          "data": {
            "image/png": "[encoded data removed]",
            "text/plain": [
              "<Figure size 432x288 with 1 Axes>"
            ]
          },
          "metadata": {
            "needs_background": "light"
          }
        }
      ]
    },
    {
      "cell_type": "code",
      "metadata": {
        "id": "AWU6awi53c07",
        "colab": {
          "base_uri": "https://localhost:8080/",
          "height": 350
        },
        "outputId": "9b49fb47-6bac-4887-8815-e5ed130f6c56"
      },
      "source": [
        "import matplotlib.pyplot as plt\n",
        "plt.hist(n)"
      ],
      "execution_count": null,
      "outputs": [
        {
          "output_type": "execute_result",
          "data": {
            "text/plain": [
              "(array([ 4.,  4.,  4.,  8., 19., 21., 16., 13.,  6.,  5.]),\n",
              " array([-2.54804234, -2.0585933 , -1.56914426, -1.07969522, -0.59024618,\n",
              "        -0.10079714,  0.3886519 ,  0.87810094,  1.36754998,  1.85699902,\n",
              "         2.34644806]),\n",
              " <a list of 10 Patch objects>)"
            ]
          },
          "metadata": {},
          "execution_count": 5
        },
        {
          "output_type": "display_data",
          "data": {
            "image/png": "[encoded data removed]",
            "text/plain": [
              "<Figure size 432x288 with 1 Axes>"
            ]
          },
          "metadata": {
            "needs_background": "light"
          }
        }
      ]
    },
    {
      "cell_type": "code",
      "metadata": {
        "colab": {
          "base_uri": "https://localhost:8080/",
          "height": 350
        },
        "id": "moIjn3Kv-Hqy",
        "outputId": "4b1e3880-1576-4b63-b4d0-192704221a8d"
      },
      "source": [
        "from matplotlib import pyplot\n",
        "pyplot.hist(n)"
      ],
      "execution_count": null,
      "outputs": [
        {
          "output_type": "execute_result",
          "data": {
            "text/plain": [
              "(array([ 3.,  4.,  9., 11., 26., 19., 16., 10.,  1.,  1.]),\n",
              " array([-2.51307585, -1.99199295, -1.47091005, -0.94982715, -0.42874425,\n",
              "         0.09233865,  0.61342155,  1.13450445,  1.65558734,  2.17667024,\n",
              "         2.69775314]),\n",
              " <a list of 10 Patch objects>)"
            ]
          },
          "metadata": {},
          "execution_count": 11
        },
        {
          "output_type": "display_data",
          "data": {
            "image/png": "[encoded data removed]",
            "text/plain": [
              "<Figure size 432x288 with 1 Axes>"
            ]
          },
          "metadata": {
            "needs_background": "light"
          }
        }
      ]
    },
    {
      "cell_type": "code",
      "metadata": {
        "colab": {
          "base_uri": "https://localhost:8080/",
          "height": 350
        },
        "id": "ORo259i7_Uqi",
        "outputId": "8faa9ebd-66ff-4f86-e588-f114023e649d"
      },
      "source": [
        "from matplotlib.pyplot import hist\n",
        "hist(n)"
      ],
      "execution_count": null,
      "outputs": [
        {
          "output_type": "execute_result",
          "data": {
            "text/plain": [
              "(array([ 3.,  4.,  9., 11., 26., 19., 16., 10.,  1.,  1.]),\n",
              " array([-2.51307585, -1.99199295, -1.47091005, -0.94982715, -0.42874425,\n",
              "         0.09233865,  0.61342155,  1.13450445,  1.65558734,  2.17667024,\n",
              "         2.69775314]),\n",
              " <a list of 10 Patch objects>)"
            ]
          },
          "metadata": {},
          "execution_count": 14
        },
        {
          "output_type": "display_data",
          "data": {
            "image/png": "[encoded data removed]",
            "text/plain": [
              "<Figure size 432x288 with 1 Axes>"
            ]
          },
          "metadata": {
            "needs_background": "light"
          }
        }
      ]
    }
  ]
}