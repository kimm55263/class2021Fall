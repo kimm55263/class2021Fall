{
  "nbformat": 4,
  "nbformat_minor": 0,
  "metadata": {
    "colab": {
      "name": "import.ipynb",
      "provenance": [],
      "include_colab_link": true
    },
    "kernelspec": {
      "name": "python3",
      "display_name": "Python 3"
    },
    "language_info": {
      "name": "python"
    }
  },
  "cells": [
    {
      "cell_type": "markdown",
      "metadata": {
        "id": "view-in-github",
        "colab_type": "text"
      },
      "source": [
        "<a href=\"https://colab.research.google.com/github/kimm55263/class2021Fall/blob/main/import.ipynb\" target=\"_parent\"><img src=\"https://colab.research.google.com/assets/colab-badge.svg\" alt=\"Open In Colab\"/></a>"
      ]
    },
    {
      "cell_type": "code",
      "metadata": {
        "id": "JXicrkYOzPRo"
      },
      "source": [
        "import numpy as np #numpy라고 길게 안하고 ny \n",
        "n = np.random.randn(100)"
      ],
      "execution_count": null,
      "outputs": []
    },
    {
      "cell_type": "code",
      "metadata": {
        "id": "npkdJAOKbmpm"
      },
      "source": [
        "# import numpy\n",
        "# n = 넘파이 속에 들어있는 내부의 폴더 랜덤 그 밑에 있는 randn을 사용하겠다\n",
        "# 폴더 속에 폴더가 들어있음"
      ],
      "execution_count": null,
      "outputs": []
    },
    {
      "cell_type": "code",
      "metadata": {
        "id": "oKT4vn4MwyLA"
      },
      "source": [
        "import matplotlib #plotting, all package\n",
        "\n",
        "\n",
        "import matplotlib.pyplot \n",
        "from matplotlib import pyplot\n",
        "from matplotlib.pyplot import hist"
      ],
      "execution_count": null,
      "outputs": []
    }
  ]
}