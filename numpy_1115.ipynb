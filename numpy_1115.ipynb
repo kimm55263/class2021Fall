{
  "nbformat": 4,
  "nbformat_minor": 0,
  "metadata": {
    "kernelspec": {
      "display_name": "Python 3",
      "language": "python",
      "name": "python3"
    },
    "language_info": {
      "codemirror_mode": {
        "name": "ipython",
        "version": 3
      },
      "file_extension": ".py",
      "mimetype": "text/x-python",
      "name": "python",
      "nbconvert_exporter": "python",
      "pygments_lexer": "ipython3",
      "version": "3.7.1"
    },
    "colab": {
      "name": "numpy.ipynb",
      "provenance": [],
      "include_colab_link": true
    }
  },
  "cells": [
    {
      "cell_type": "markdown",
      "metadata": {
        "id": "view-in-github",
        "colab_type": "text"
      },
      "source": [
        "<a href=\"https://colab.research.google.com/github/kimm55263/class2021Fall/blob/main/numpy_1115.ipynb\" target=\"_parent\"><img src=\"https://colab.research.google.com/assets/colab-badge.svg\" alt=\"Open In Colab\"/></a>"
      ]
    },
    {
      "cell_type": "markdown",
      "metadata": {
        "id": "JcCdLoe_4bY7"
      },
      "source": [
        "### create nd arrays (≈matrices)\n",
        "n dimensional 행렬은 n by m = 2차원이 됨\n",
        "행렬 그 위로도 갈 수 있음 n by m by p \n",
        "2 by 3 by 4 by 5 = 이건 4차원"
      ]
    },
    {
      "cell_type": "code",
      "metadata": {
        "id": "5ap7xyofShBB"
      },
      "source": [
        "import numpy as np"
      ],
      "execution_count": 2,
      "outputs": []
    },
    {
      "cell_type": "code",
      "metadata": {
        "id": "2rqpSPZCShBC",
        "colab": {
          "base_uri": "https://localhost:8080/"
        },
        "outputId": "85c09bb7-cca9-4c1f-c208-606bfcb00065"
      },
      "source": [
        "x = np.array ([[[1, 2, 3], [4, 5, 6]], [[8, 9, 0], [9, 9, 9]]]) # 대괄호가 끝에 크게 두개 있어서 2차원으로 찾을 수 있음\n",
        "# 큰 괄호에 2개가 들어있고, 그 안에는 3개가 들어있다\n",
        "# 가장 큰 괄호에 2개가 들어 있는 bracket 두개가 있고 2, 그리고 그 안에도 괄호가 2개고, 하나 안에는 숫자가 3개이다\n",
        "# array는 3D array, 1차원 2개, 그 안에서는 2개 그리고 3개\n",
        "\n",
        "# x = np.array([1,2,3])\n",
        "print(x)\n",
        "print(type(x))\n",
        "print(x.shape)"
      ],
      "execution_count": 7,
      "outputs": [
        {
          "output_type": "stream",
          "name": "stdout",
          "text": [
            "[[[1 2 3]\n",
            "  [4 5 6]]\n",
            "\n",
            " [[8 9 0]\n",
            "  [9 9 9]]]\n",
            "<class 'numpy.ndarray'>\n",
            "(2, 2, 3)\n"
          ]
        }
      ]
    },
    {
      "cell_type": "code",
      "metadata": {
        "id": "EjC88C75ShBC",
        "colab": {
          "base_uri": "https://localhost:8080/"
        },
        "outputId": "bf4ed5ac-c166-42b6-acf5-fcbe0c5fdfbe"
      },
      "source": [
        "x = np.arange(0,10,2) # 0부터 10으로 2씩 올라가는데, 10이 되기 전까지 올라가라, 한 줄짜리 5, 1차원 array인 것\n",
        "print(x)\n",
        "print(type(x))\n",
        "print(x.shape)"
      ],
      "execution_count": 8,
      "outputs": [
        {
          "output_type": "stream",
          "name": "stdout",
          "text": [
            "[0 2 4 6 8]\n",
            "<class 'numpy.ndarray'>\n",
            "(5,)\n"
          ]
        }
      ]
    },
    {
      "cell_type": "code",
      "metadata": {
        "id": "-MwkCEjTShBC",
        "colab": {
          "base_uri": "https://localhost:8080/"
        },
        "outputId": "11427674-886c-4f82-ca48-a1465f53223e"
      },
      "source": [
        "x = np.linspace(0,10,6) # 1차원 array를 알려주는 것\n",
        "print(x)\n",
        "print(type(x))\n",
        "print(x.shape)"
      ],
      "execution_count": null,
      "outputs": [
        {
          "output_type": "stream",
          "name": "stdout",
          "text": [
            "[ 0.  2.  4.  6.  8. 10.]\n",
            "<class 'numpy.ndarray'>\n",
            "(6,)\n"
          ]
        }
      ]
    },
    {
      "cell_type": "code",
      "metadata": {
        "id": "tjk79SQ27fNv",
        "colab": {
          "base_uri": "https://localhost:8080/"
        },
        "outputId": "3ff3368b-6bb1-4664-933e-8504613780b1"
      },
      "source": [
        "x = np.array([[1,2,3], [4,5,6]])\n",
        "print(x)\n",
        "print(type(x))\n",
        "print(x.shape) # 대괄호에 2개, 그 안에 3개 2차원"
      ],
      "execution_count": null,
      "outputs": [
        {
          "output_type": "stream",
          "name": "stdout",
          "text": [
            "[[1 2 3]\n",
            " [4 5 6]]\n",
            "<class 'numpy.ndarray'>\n",
            "(2, 3)\n"
          ]
        }
      ]
    },
    {
      "cell_type": "code",
      "metadata": {
        "id": "C1ogg6iZ7yir",
        "colab": {
          "base_uri": "https://localhost:8080/"
        },
        "outputId": "baf27f4e-10a7-40bb-82f4-bf470d8de90c"
      },
      "source": [
        "x = np.array([[[1,2,3], [4,5,6]], [[7,8,9], [10,11,12]]])\n",
        "print(x)\n",
        "print(type(x))\n",
        "print(x.shape) # 2차원 3D array"
      ],
      "execution_count": null,
      "outputs": [
        {
          "output_type": "stream",
          "name": "stdout",
          "text": [
            "[[[ 1  2  3]\n",
            "  [ 4  5  6]]\n",
            "\n",
            " [[ 7  8  9]\n",
            "  [10 11 12]]]\n",
            "<class 'numpy.ndarray'>\n",
            "(2, 2, 3)\n"
          ]
        }
      ]
    },
    {
      "cell_type": "code",
      "metadata": {
        "id": "efgeNHtD8ZlT",
        "colab": {
          "base_uri": "https://localhost:8080/"
        },
        "outputId": "047fb9dd-8c90-4dbf-9f12-35123bed1052"
      },
      "source": [
        "x = np.ones([2, 2, 3])\n",
        "print(x)\n",
        "print(type(x))\n",
        "print(x.shape) # 2 by 2 by 3 array를 만들되 모두 1을 채워 놓아라"
      ],
      "execution_count": null,
      "outputs": [
        {
          "output_type": "stream",
          "name": "stdout",
          "text": [
            "[[[1. 1. 1.]\n",
            "  [1. 1. 1.]]\n",
            "\n",
            " [[1. 1. 1.]\n",
            "  [1. 1. 1.]]]\n",
            "<class 'numpy.ndarray'>\n",
            "(2, 2, 3)\n"
          ]
        }
      ]
    },
    {
      "cell_type": "code",
      "metadata": {
        "id": "b_F-ccY08zzl",
        "colab": {
          "base_uri": "https://localhost:8080/"
        },
        "outputId": "28c94826-c282-4099-a152-8641c54e3866"
      },
      "source": [
        "x = np.zeros([2, 2, 3])\n",
        "print(x)\n",
        "print(type(x))\n",
        "print(x.shape)\n",
        "x.reshape(3,2,2)"
      ],
      "execution_count": 14,
      "outputs": [
        {
          "output_type": "stream",
          "name": "stdout",
          "text": [
            "[[[0. 0. 0.]\n",
            "  [0. 0. 0.]]\n",
            "\n",
            " [[0. 0. 0.]\n",
            "  [0. 0. 0.]]]\n",
            "<class 'numpy.ndarray'>\n",
            "(2, 2, 3)\n"
          ]
        },
        {
          "output_type": "execute_result",
          "data": {
            "text/plain": [
              "array([[[0., 0.],\n",
              "        [0., 0.]],\n",
              "\n",
              "       [[0., 0.],\n",
              "        [0., 0.]],\n",
              "\n",
              "       [[0., 0.],\n",
              "        [0., 0.]]])"
            ]
          },
          "metadata": {},
          "execution_count": 14
        }
      ]
    },
    {
      "cell_type": "markdown",
      "metadata": {
        "id": "0hQuDJ5g9gpE"
      },
      "source": [
        "### create random numbers"
      ]
    },
    {
      "cell_type": "code",
      "metadata": {
        "id": "QRatmkx79otL"
      },
      "source": [
        "import matplotlib.pyplot as plt"
      ],
      "execution_count": 15,
      "outputs": []
    },
    {
      "cell_type": "code",
      "metadata": {
        "id": "z1oOAB6dShBD",
        "colab": {
          "base_uri": "https://localhost:8080/",
          "height": 672
        },
        "outputId": "157acc25-02e1-4fbb-eec5-0039c2c595b8"
      },
      "source": [
        "x = np.random.normal(0, 1, 100) # 평균 0, std 1, 100 숫자\n",
        "print(x)\n",
        "plt.hist(x, bins=10)"
      ],
      "execution_count": 18,
      "outputs": [
        {
          "output_type": "stream",
          "name": "stdout",
          "text": [
            "[ 0.82507217  0.46265308 -0.28720082 -0.4332315   0.75734933  0.75732134\n",
            " -0.11411224  0.17808524 -0.39392905  0.42720278 -0.26581665  0.36136988\n",
            " -1.03239434 -0.536376   -0.54685022 -0.3071252  -0.68761532  1.38270128\n",
            " -0.16171072 -0.29844775  0.23823025  0.06713954  0.59063355  1.70952354\n",
            " -1.13548989  0.82953921 -0.61444039 -0.76637009  0.37790879  1.66743633\n",
            " -1.17052162 -0.3047187  -0.58241248 -1.94865503  0.93277119 -1.04364855\n",
            "  0.53427189 -0.34752247  0.23605598  0.98090335  0.30852675 -1.00160785\n",
            " -0.01434064 -0.08849009 -0.06714593 -0.07446539 -0.54288278  0.91284664\n",
            " -1.02527178  0.28420964  1.68055013 -0.20274724  0.18026335 -0.34436669\n",
            " -0.52975057  0.92686521 -2.24487868  2.11744977 -0.45631363 -0.59522013\n",
            " -0.34582117 -0.33965592  1.35175217  1.85557823 -1.5798933   0.84680564\n",
            " -1.68332297 -1.36146711  0.68369289 -0.66957446 -1.55506019  0.65851179\n",
            " -0.91951977  1.15924869  1.14880732 -0.15918213  0.23228008 -0.54753406\n",
            "  0.23880318  1.2181679  -0.25908806  1.70873992  1.28840709 -1.31342824\n",
            " -0.84413673  2.02240499 -0.15843955 -0.61408633 -0.93881686 -0.26951746\n",
            " -0.84131994 -0.53362175 -0.88117849  2.22901869  1.4115527  -0.17518921\n",
            "  0.81276449 -0.01892899 -1.59860786  0.04556696]\n"
          ]
        },
        {
          "output_type": "execute_result",
          "data": {
            "text/plain": [
              "(array([ 2.,  5.,  9., 17., 24., 13., 11.,  8.,  7.,  4.]),\n",
              " array([-2.24487868, -1.79748895, -1.35009921, -0.90270947, -0.45531973,\n",
              "        -0.00793   ,  0.43945974,  0.88684948,  1.33423921,  1.78162895,\n",
              "         2.22901869]),\n",
              " <a list of 10 Patch objects>)"
            ]
          },
          "metadata": {},
          "execution_count": 18
        },
        {
          "output_type": "display_data",
          "data": {
            "image/png": "[encoded data removed]",
            "text/plain": [
              "<Figure size 432x288 with 1 Axes>"
            ]
          },
          "metadata": {
            "needs_background": "light"
          }
        }
      ]
    },
    {
      "cell_type": "markdown",
      "metadata": {
        "id": "G0exvwBbShBE"
      },
      "source": [
        "### generate a sine curve"
      ]
    },
    {
      "cell_type": "code",
      "metadata": {
        "id": "HgQmRXzMShBE",
        "colab": {
          "base_uri": "https://localhost:8080/",
          "height": 313
        },
        "outputId": "eb65ce43-7428-4944-c4e7-4215b589b5ff"
      },
      "source": [
        "theta = np.linspace(0, 2*np.pi, 100) # 0부터 2파이까지 총 100개의 숫자를 만들어라, 등간격으로! 벡터를 먼저 만들어 내었음\n",
        "s = np.sin(theta) #문제: theta의 길이는 어떻게 되는가? 각도에 대한 사인 출력값\n",
        "plt.plot(theta, s, '.') # theta 1d array, 벡터 값이 100개, 각도에 해당되는 사인 값이 100개 대응되어 있음, theta는 x값을, y에는 s값을\n",
        "# (0,0)이 theta의 나오는 첫번째와 s에 나오는 첫번째 값에 해당함\n",
        "plt.xlabel('angel (radian)')\n",
        "plt.ylabel('value')\n",
        "plt.title('my first sine curve')\n",
        "theta.shape"
      ],
      "execution_count": 26,
      "outputs": [
        {
          "output_type": "execute_result",
          "data": {
            "text/plain": [
              "(100,)"
            ]
          },
          "metadata": {},
          "execution_count": 26
        },
        {
          "output_type": "display_data",
          "data": {
            "image/png": "[encoded data removed]",
            "text/plain": [
              "<Figure size 432x288 with 1 Axes>"
            ]
          },
          "metadata": {
            "needs_background": "light"
          }
        }
      ]
    },
    {
      "cell_type": "code",
      "metadata": {
        "id": "WTqXoomZBbBk",
        "colab": {
          "base_uri": "https://localhost:8080/",
          "height": 313
        },
        "outputId": "c21b4a5a-9ac4-45a4-9265-f23ac8e9f97e"
      },
      "source": [
        "theta2 = np.linspace(0, 2*np.pi, 100) + np.pi/2 # 90도부터 2파이하고 90도를 더 가게 만듦 90도씩 더해준 것 0값-90도\n",
        "s2 = np.sin(theta2) # 위의 벡터값을 사인에 넣는 것\n",
        "plt.xlabel('angel (radian)')\n",
        "plt.ylabel('value')\n",
        "plt.title('my first sine curve')\n",
        "plt.plot(theta2, s2, 'b:')\n",
        "# 위와 아래의 각도차이를 Phase difference라고 함, 위상차"
      ],
      "execution_count": 28,
      "outputs": [
        {
          "output_type": "execute_result",
          "data": {
            "text/plain": [
              "[<matplotlib.lines.Line2D at 0x7f8a7111a610>]"
            ]
          },
          "metadata": {},
          "execution_count": 28
        },
        {
          "output_type": "display_data",
          "data": {
            "image/png": "[encoded data removed]",
            "text/plain": [
              "<Figure size 432x288 with 1 Axes>"
            ]
          },
          "metadata": {
            "needs_background": "light"
          }
        }
      ]
    },
    {
      "cell_type": "code",
      "metadata": {
        "id": "TuH489v9BvQ7",
        "colab": {
          "base_uri": "https://localhost:8080/"
        },
        "outputId": "a1b1e9a7-3871-47da-8447-5d1b7deaeeca"
      },
      "source": [
        "np.corrcoef(s,s2)"
      ],
      "execution_count": null,
      "outputs": [
        {
          "output_type": "execute_result",
          "data": {
            "text/plain": [
              "array([[1.00000000e+00, 2.41915449e-17],\n",
              "       [2.41915449e-17, 1.00000000e+00]])"
            ]
          },
          "metadata": {},
          "execution_count": 54
        }
      ]
    }
  ]
}